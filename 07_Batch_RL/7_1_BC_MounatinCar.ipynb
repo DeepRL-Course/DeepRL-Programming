{
  "cells": [
    {
      "cell_type": "markdown",
      "source": [
        "======================================================================================================\n",
        "\n",
        "**Disclaimer**: Parts of this notebook are adapted from this [**Open Source Project**](https://github.com/AssistiveRoboticsUNH/bc_tutorial)  with minor modifications. Credit to the original authors.\n",
        "\n",
        "======================================================================================================"
      ],
      "metadata": {
        "id": "wuD6E3A-CdtX"
      },
      "id": "wuD6E3A-CdtX"
    },
    {
      "cell_type": "markdown",
      "source": [
        "# Workshop 7\n",
        "## Behavior Cloning - Part 1 (Gym Environmet)\n",
        "========================================"
      ],
      "metadata": {
        "id": "IifvR9dqCpv0"
      },
      "id": "IifvR9dqCpv0"
    },
    {
      "cell_type": "markdown",
      "id": "60f52822",
      "metadata": {
        "id": "60f52822"
      },
      "source": [
        "### installation for colab\n",
        "To Run in Colab: uncomment and run the following"
      ]
    },
    {
      "cell_type": "code",
      "execution_count": null,
      "id": "c2d7fc28",
      "metadata": {
        "id": "c2d7fc28"
      },
      "outputs": [],
      "source": [
        "!git clone https://github.com/AssistiveRoboticsUNH/bc_tutorial.git\n",
        "!pip install gym==0.26.2"
      ]
    },
    {
      "cell_type": "code",
      "source": [
        "# Uninstall the current numpy\n",
        "!pip uninstall -y numpy\n",
        "\n",
        "# Install a compatible version of numpy\n",
        "!pip install numpy==1.23.5"
      ],
      "metadata": {
        "id": "Al1cz970KD9X"
      },
      "id": "Al1cz970KD9X",
      "execution_count": null,
      "outputs": []
    },
    {
      "cell_type": "code",
      "execution_count": null,
      "id": "91851ae5",
      "metadata": {
        "id": "91851ae5"
      },
      "outputs": [],
      "source": [
        "import warnings\n",
        "warnings.filterwarnings(\"ignore\")"
      ]
    },
    {
      "cell_type": "code",
      "execution_count": null,
      "id": "7b86c65a",
      "metadata": {
        "id": "7b86c65a"
      },
      "outputs": [],
      "source": [
        "import numpy as np\n",
        "import gym\n",
        "import torch\n",
        "import torch.nn as nn\n",
        "import torch.nn.functional as F\n",
        "from matplotlib import pyplot as plt\n",
        "import pickle\n",
        "import imageio"
      ]
    },
    {
      "cell_type": "markdown",
      "id": "18064b43",
      "metadata": {
        "id": "18064b43"
      },
      "source": [
        "### Prepare data"
      ]
    },
    {
      "cell_type": "code",
      "execution_count": null,
      "id": "216e6cec",
      "metadata": {
        "id": "216e6cec",
        "outputId": "ef8474a9-54c3-4aad-9ebc-2e0c0d314a06",
        "colab": {
          "base_uri": "https://localhost:8080/"
        }
      },
      "outputs": [
        {
          "output_type": "stream",
          "name": "stdout",
          "text": [
            "Number of trajectories: 4\n"
          ]
        }
      ],
      "source": [
        "# data_path = \"expert_data/human_demos_4_-111.0.pkl\"\n",
        "data_path = \"/content/bc_tutorial/mountain_car/expert_data/human_demos_4_-111.0.pkl\"\n",
        "\n",
        "\n",
        "with open(data_path, 'rb') as f:\n",
        "    trajs = pickle.load(f)\n",
        "\n",
        "print(f\"Number of trajectories: {len(trajs)}\")"
      ]
    },
    {
      "cell_type": "code",
      "execution_count": null,
      "id": "886d7adb",
      "metadata": {
        "id": "886d7adb",
        "outputId": "ee544e09-88a6-4a90-ae89-9ba761cd4e9e",
        "colab": {
          "base_uri": "https://localhost:8080/"
        }
      },
      "outputs": [
        {
          "output_type": "execute_result",
          "data": {
            "text/plain": [
              "((438, 2), (438,))"
            ]
          },
          "metadata": {},
          "execution_count": 6
        }
      ],
      "source": [
        "states=[]\n",
        "actions=[]\n",
        "for traj in trajs:\n",
        "    for state,action in traj:\n",
        "        states.append(state)\n",
        "        actions.append(action)\n",
        "\n",
        "states=np.array(states)\n",
        "actions=np.array(actions)\n",
        "\n",
        "states.shape,actions.shape"
      ]
    },
    {
      "cell_type": "code",
      "execution_count": null,
      "id": "deec36d0",
      "metadata": {
        "id": "deec36d0",
        "outputId": "4b304d0b-dfb5-4c59-bca9-25ba626ce26a",
        "colab": {
          "base_uri": "https://localhost:8080/"
        }
      },
      "outputs": [
        {
          "output_type": "execute_result",
          "data": {
            "text/plain": [
              "3"
            ]
          },
          "metadata": {},
          "execution_count": 7
        }
      ],
      "source": [
        "num_classes = np.max(actions)+1\n",
        "num_classes"
      ]
    },
    {
      "cell_type": "code",
      "execution_count": null,
      "id": "c4198d75",
      "metadata": {
        "id": "c4198d75",
        "outputId": "ce7817a4-d358-4cec-941e-7710434742bf",
        "colab": {
          "base_uri": "https://localhost:8080/"
        }
      },
      "outputs": [
        {
          "output_type": "execute_result",
          "data": {
            "text/plain": [
              "(torch.Size([64, 2]), torch.Size([64]))"
            ]
          },
          "metadata": {},
          "execution_count": 8
        }
      ],
      "source": [
        "data_loader = torch.utils.data.DataLoader( list(zip(states, actions)), batch_size=64, shuffle=True)\n",
        "\n",
        "batch=next(iter(data_loader))\n",
        "states,actions = batch\n",
        "states.shape,actions.shape"
      ]
    },
    {
      "cell_type": "markdown",
      "id": "da1b52cf",
      "metadata": {
        "id": "da1b52cf"
      },
      "source": [
        "### Training"
      ]
    },
    {
      "cell_type": "code",
      "execution_count": null,
      "id": "70d56fe9",
      "metadata": {
        "id": "70d56fe9"
      },
      "outputs": [],
      "source": [
        "class BcNet(nn.Module):\n",
        "    def __init__(self, state_dim, action_dim):\n",
        "        super(BcNet, self).__init__()\n",
        "        self.layer1 = nn.Linear(state_dim, 64)\n",
        "        self.layer2 = nn.Linear(64, 32)\n",
        "        self.layer3 = nn.Linear(32, action_dim)\n",
        "\n",
        "    def forward(self, x):\n",
        "        x = F.relu(self.layer1(x))\n",
        "        x = F.relu(self.layer2(x))\n",
        "        x = self.layer3(x)\n",
        "        # x = F.softmax(x, dim=1)\n",
        "        return x"
      ]
    },
    {
      "cell_type": "code",
      "execution_count": null,
      "id": "412bc062",
      "metadata": {
        "id": "412bc062"
      },
      "outputs": [],
      "source": [
        "bc= BcNet(2, 3)\n",
        "criterion = nn.CrossEntropyLoss()\n",
        "learning_rate = 0.01\n",
        "optimizer = torch.optim.Adam(bc.parameters(), lr = learning_rate)"
      ]
    },
    {
      "cell_type": "code",
      "execution_count": null,
      "id": "58f9d965",
      "metadata": {
        "id": "58f9d965"
      },
      "outputs": [],
      "source": []
    },
    {
      "cell_type": "code",
      "execution_count": null,
      "id": "5710fc27",
      "metadata": {
        "id": "5710fc27",
        "outputId": "40635fe0-81d8-4c71-f674-3e164ac9c8af",
        "colab": {
          "base_uri": "https://localhost:8080/"
        }
      },
      "outputs": [
        {
          "output_type": "stream",
          "name": "stdout",
          "text": [
            "iteration: 0, loss: 0.7733123302459717\n",
            "iteration: 10, loss: 0.4502233862876892\n",
            "iteration: 20, loss: 0.18849170207977295\n",
            "iteration: 30, loss: 0.11881274729967117\n",
            "iteration: 40, loss: 0.0870705097913742\n",
            "iteration: 50, loss: 0.1232917308807373\n",
            "iteration: 60, loss: 0.054407257586717606\n",
            "iteration: 70, loss: 0.08386842161417007\n",
            "iteration: 80, loss: 0.042612042278051376\n",
            "iteration: 90, loss: 0.3174859285354614\n",
            "iteration: 100, loss: 0.07285166531801224\n",
            "iteration: 110, loss: 0.06183181703090668\n",
            "iteration: 120, loss: 0.08942457288503647\n",
            "iteration: 130, loss: 0.10972489416599274\n",
            "iteration: 140, loss: 0.10326886922121048\n",
            "iteration: 150, loss: 0.05471064895391464\n",
            "iteration: 160, loss: 0.0600166842341423\n",
            "iteration: 170, loss: 0.06091376766562462\n",
            "iteration: 180, loss: 0.17406980693340302\n",
            "iteration: 190, loss: 0.13942264020442963\n",
            "iteration: 200, loss: 0.03585389256477356\n",
            "iteration: 210, loss: 0.10615640878677368\n",
            "iteration: 220, loss: 0.061684466898441315\n",
            "iteration: 230, loss: 0.06145818531513214\n",
            "iteration: 240, loss: 0.027095291763544083\n",
            "iteration: 250, loss: 0.04673754423856735\n"
          ]
        }
      ],
      "source": [
        "loss_list = []\n",
        "n_epoch = 250\n",
        "\n",
        "for itr in range(0, n_epoch+1):\n",
        "    for batch_states, batch_actions in data_loader:\n",
        "        y_pred = bc(batch_states)\n",
        "        loss = criterion(y_pred, batch_actions)\n",
        "        optimizer.zero_grad()\n",
        "        loss.backward()\n",
        "        optimizer.step()\n",
        "        loss_list.append(loss.item())\n",
        "\n",
        "    if itr % 10 == 0:\n",
        "        print(f'iteration: {itr}, loss: {loss.item()}')"
      ]
    },
    {
      "cell_type": "code",
      "execution_count": null,
      "id": "6d830843",
      "metadata": {
        "id": "6d830843",
        "outputId": "cc839433-ed28-46b7-9463-5a8efa1cddd4",
        "colab": {
          "base_uri": "https://localhost:8080/",
          "height": 447
        }
      },
      "outputs": [
        {
          "output_type": "execute_result",
          "data": {
            "text/plain": [
              "[<matplotlib.lines.Line2D at 0x7d13f7bbd190>]"
            ]
          },
          "metadata": {},
          "execution_count": 12
        },
        {
          "output_type": "display_data",
          "data": {
            "text/plain": [
              "<Figure size 640x480 with 1 Axes>"
            ],
            "image/png": "[encoded data removed]"
          },
          "metadata": {}
        }
      ],
      "source": [
        "plt.plot(loss_list)"
      ]
    },
    {
      "cell_type": "code",
      "execution_count": null,
      "id": "bd1ed56b",
      "metadata": {
        "id": "bd1ed56b"
      },
      "outputs": [],
      "source": []
    },
    {
      "cell_type": "code",
      "execution_count": null,
      "id": "27401eb0",
      "metadata": {
        "id": "27401eb0",
        "outputId": "ae8823a0-8e30-4a3e-f09f-eaffd12b4957",
        "colab": {
          "base_uri": "https://localhost:8080/"
        }
      },
      "outputs": [
        {
          "output_type": "stream",
          "name": "stdout",
          "text": [
            "training accuracy:  tensor(1.)\n"
          ]
        }
      ],
      "source": [
        "bc.eval()\n",
        "train_x=torch.tensor(states).float()\n",
        "train_y=torch.tensor(actions).long()\n",
        "with torch.no_grad():\n",
        "    y_pred = bc(train_x)\n",
        "    correct = (torch.argmax(y_pred, dim=1) == train_y ).type(torch.FloatTensor)\n",
        "    print('training accuracy: ', correct.mean())"
      ]
    },
    {
      "cell_type": "code",
      "execution_count": null,
      "id": "b0a8f93a",
      "metadata": {
        "id": "b0a8f93a"
      },
      "outputs": [],
      "source": []
    },
    {
      "cell_type": "markdown",
      "id": "6ec623aa",
      "metadata": {
        "id": "6ec623aa"
      },
      "source": [
        "### Rollout"
      ]
    },
    {
      "cell_type": "code",
      "execution_count": null,
      "id": "f2adf6d5",
      "metadata": {
        "id": "f2adf6d5"
      },
      "outputs": [],
      "source": [
        "env_name='MountainCar-v0'"
      ]
    },
    {
      "cell_type": "code",
      "execution_count": null,
      "id": "23fd31da",
      "metadata": {
        "id": "23fd31da"
      },
      "outputs": [],
      "source": [
        "def play_an_episode(env_name, model, video_path=None, max_steps=1000):\n",
        "    video_writer=None\n",
        "    if video_path is not None:\n",
        "        print(f'Saving video to {video_path}')\n",
        "        video_writer = imageio.get_writer(video_path, fps=20)\n",
        "        env=gym.make(env_name, render_mode='rgb_array')\n",
        "    else:\n",
        "        env=gym.make(env_name)\n",
        "\n",
        "    obs,_=env.reset()\n",
        "    rewards=0\n",
        "    step=0\n",
        "    for _ in range(max_steps):\n",
        "        step+=1\n",
        "        obs=torch.tensor(obs).float()\n",
        "        predict=model(obs)\n",
        "        action=torch.argmax(predict).item()\n",
        "        obs, reward, done, trunc,_ = env.step(action)\n",
        "\n",
        "        if video_path is not None:\n",
        "            image=env.render()\n",
        "            video_writer.append_data(image)\n",
        "\n",
        "        rewards+=reward\n",
        "        if done or trunc:\n",
        "            break\n",
        "\n",
        "    if video_path is not None:\n",
        "        video_writer.close()\n",
        "    return {'reward':rewards, 'step':step-1}"
      ]
    },
    {
      "cell_type": "code",
      "execution_count": null,
      "id": "bdd8c3ae",
      "metadata": {
        "id": "bdd8c3ae",
        "outputId": "7254ec5e-53ac-4549-b2d9-85c0553fcdca",
        "colab": {
          "base_uri": "https://localhost:8080/"
        }
      },
      "outputs": [
        {
          "output_type": "stream",
          "name": "stdout",
          "text": [
            "episode #0 reward: -200.00\n",
            "episode #1 reward: -126.00\n",
            "episode #2 reward: -200.00\n",
            "episode #3 reward: -200.00\n",
            "episode #4 reward: -113.00\n",
            "episode #5 reward: -118.00\n",
            "episode #6 reward: -113.00\n",
            "episode #7 reward: -114.00\n",
            "episode #8 reward: -121.00\n",
            "episode #9 reward: -111.00\n",
            "episode #10 reward: -117.00\n",
            "episode #11 reward: -112.00\n",
            "episode #12 reward: -115.00\n",
            "episode #13 reward: -113.00\n",
            "episode #14 reward: -113.00\n",
            "episode #15 reward: -113.00\n",
            "episode #16 reward: -113.00\n",
            "episode #17 reward: -115.00\n",
            "episode #18 reward: -113.00\n",
            "episode #19 reward: -115.00\n",
            "\n",
            " score: -127.75 +- 30.54\n"
          ]
        }
      ],
      "source": [
        "scores=[]\n",
        "n_trajectory=20\n",
        "for i in range(n_trajectory):\n",
        "    stats=play_an_episode(env_name, bc)\n",
        "    rewards=stats['reward']\n",
        "    print(f'episode #{i} reward: {rewards:0.2f}')\n",
        "    scores.append(rewards)\n",
        "\n",
        "print(f'\\n score: {np.mean(scores):0.2f} +- {np.std(scores):0.2f}')"
      ]
    },
    {
      "cell_type": "markdown",
      "id": "22b03f8e",
      "metadata": {
        "id": "22b03f8e"
      },
      "source": [
        "### Let's render and save a video using the learned policy."
      ]
    },
    {
      "cell_type": "code",
      "execution_count": null,
      "id": "8c478c36",
      "metadata": {
        "id": "8c478c36",
        "outputId": "837b1871-a498-46c8-d990-ca6976755d3d",
        "colab": {
          "base_uri": "https://localhost:8080/"
        }
      },
      "outputs": [
        {
          "output_type": "stream",
          "name": "stdout",
          "text": [
            "Saving video to bc_mc.mp4\n"
          ]
        },
        {
          "output_type": "stream",
          "name": "stderr",
          "text": [
            "WARNING:imageio_ffmpeg:IMAGEIO FFMPEG_WRITER WARNING: input image is not divisible by macro_block_size=16, resizing from (600, 400) to (608, 400) to ensure video compatibility with most codecs and players. To prevent resizing, make your input image divisible by the macro_block_size or set the macro_block_size to 1 (risking incompatibility).\n"
          ]
        },
        {
          "output_type": "execute_result",
          "data": {
            "text/plain": [
              "{'reward': -116.0, 'step': 115}"
            ]
          },
          "metadata": {},
          "execution_count": 17
        }
      ],
      "source": [
        "stats=play_an_episode(env_name, bc, video_path='bc_mc.mp4')\n",
        "stats"
      ]
    },
    {
      "cell_type": "code",
      "execution_count": null,
      "id": "92c16e63",
      "metadata": {
        "id": "92c16e63"
      },
      "outputs": [],
      "source": [
        "# from IPython.display import Video\n",
        "# Video('bc_mc.mp4' )"
      ]
    },
    {
      "cell_type": "code",
      "execution_count": null,
      "id": "eb4ee856",
      "metadata": {
        "id": "eb4ee856",
        "outputId": "558969f5-1ac3-4bf5-d2ed-d229c6c9909b",
        "colab": {
          "base_uri": "https://localhost:8080/",
          "height": 305
        }
      },
      "outputs": [
        {
          "output_type": "execute_result",
          "data": {
            "text/plain": [
              "<IPython.core.display.HTML object>"
            ],
            "text/html": [
              "\n",
              "<video width=400 controls>\n",
              "      <source src=\"data:video/mp4;base64,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\" type=\"video/mp4\">\n",
              "</video>\n"
            ]
          },
          "metadata": {},
          "execution_count": 18
        }
      ],
      "source": [
        "from IPython.display import HTML\n",
        "from base64 import b64encode\n",
        "\n",
        "video_path = 'bc_mc.mp4'\n",
        "\n",
        "mp4 = open(video_path, \"rb\").read()\n",
        "data_url = \"data:video/mp4;base64,\" + b64encode(mp4).decode()\n",
        "HTML(f\"\"\"\n",
        "<video width=400 controls>\n",
        "      <source src=\"{data_url}\" type=\"video/mp4\">\n",
        "</video>\n",
        "\"\"\")"
      ]
    },
    {
      "cell_type": "code",
      "execution_count": null,
      "id": "22401ae0",
      "metadata": {
        "id": "22401ae0"
      },
      "outputs": [],
      "source": []
    },
    {
      "cell_type": "code",
      "execution_count": null,
      "id": "ada01545",
      "metadata": {
        "id": "ada01545"
      },
      "outputs": [],
      "source": []
    },
    {
      "cell_type": "code",
      "execution_count": null,
      "id": "dcc10200",
      "metadata": {
        "id": "dcc10200"
      },
      "outputs": [],
      "source": []
    },
    {
      "cell_type": "code",
      "execution_count": null,
      "id": "01232893",
      "metadata": {
        "id": "01232893"
      },
      "outputs": [],
      "source": []
    }
  ],
  "metadata": {
    "kernelspec": {
      "display_name": "Python 3",
      "language": "python",
      "name": "python3"
    },
    "language_info": {
      "codemirror_mode": {
        "name": "ipython",
        "version": 3
      },
      "file_extension": ".py",
      "mimetype": "text/x-python",
      "name": "python",
      "nbconvert_exporter": "python",
      "pygments_lexer": "ipython3",
      "version": "3.9.12"
    },
    "colab": {
      "provenance": []
    }
  },
  "nbformat": 4,
  "nbformat_minor": 5
}
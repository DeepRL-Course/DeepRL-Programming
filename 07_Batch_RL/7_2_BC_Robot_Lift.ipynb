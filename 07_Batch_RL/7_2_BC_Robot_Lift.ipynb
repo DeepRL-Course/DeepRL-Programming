{
  "cells": [
    {
      "cell_type": "markdown",
      "source": [
        "======================================================================================================\n",
        "\n",
        "**Disclaimer**: Parts of this notebook are adapted from this [**Open Source Project**](https://github.com/AssistiveRoboticsUNH/bc_tutorial)  with minor modifications. Credit to the original authors.\n",
        "\n",
        "======================================================================================================"
      ],
      "metadata": {
        "id": "I_YJnMsKBz-d"
      }
    },
    {
      "cell_type": "markdown",
      "source": [
        "# Workshop 7\n",
        "## Behavior Cloning - Part 2 (Robotic Task)\n",
        "================================================================="
      ],
      "metadata": {
        "id": "8sKCAZENC3R-"
      }
    },
    {
      "cell_type": "markdown",
      "metadata": {
        "id": "BAZrHxkhKT3Q"
      },
      "source": [
        "### installation for colab\n",
        "To Run in Colab: uncomment and run the following"
      ]
    },
    {
      "cell_type": "code",
      "execution_count": null,
      "metadata": {
        "id": "yuUEGc47KT3S",
        "colab": {
          "base_uri": "https://localhost:8080/"
        },
        "outputId": "7f7256ae-5974-48e6-9128-3aae684801d5"
      },
      "outputs": [
        {
          "output_type": "stream",
          "name": "stdout",
          "text": [
            "Cloning into 'robomimic'...\n",
            "remote: Enumerating objects: 4115, done.\u001b[K\n",
            "remote: Counting objects: 100% (1903/1903), done.\u001b[K\n",
            "remote: Compressing objects: 100% (337/337), done.\u001b[K\n",
            "remote: Total 4115 (delta 1709), reused 1566 (delta 1566), pack-reused 2212 (from 1)\u001b[K\n",
            "Receiving objects: 100% (4115/4115), 62.18 MiB | 25.82 MiB/s, done.\n",
            "Resolving deltas: 100% (2950/2950), done.\n",
            "Obtaining file:///content/robomimic\n",
            "  Preparing metadata (setup.py) ... \u001b[?25l\u001b[?25hdone\n",
            "Requirement already satisfied: numpy>=1.13.3 in /usr/local/lib/python3.11/dist-packages (from robomimic==0.4.0) (2.0.2)\n",
            "Requirement already satisfied: h5py in /usr/local/lib/python3.11/dist-packages (from robomimic==0.4.0) (3.13.0)\n",
            "Requirement already satisfied: psutil in /usr/local/lib/python3.11/dist-packages (from robomimic==0.4.0) (5.9.5)\n",
            "Requirement already satisfied: tqdm in /usr/local/lib/python3.11/dist-packages (from robomimic==0.4.0) (4.67.1)\n",
            "Requirement already satisfied: termcolor in /usr/local/lib/python3.11/dist-packages (from robomimic==0.4.0) (3.1.0)\n",
            "Requirement already satisfied: tensorboard in /usr/local/lib/python3.11/dist-packages (from robomimic==0.4.0) (2.18.0)\n",
            "Collecting tensorboardX (from robomimic==0.4.0)\n",
            "  Downloading tensorboardX-2.6.2.2-py2.py3-none-any.whl.metadata (5.8 kB)\n",
            "Requirement already satisfied: imageio in /usr/local/lib/python3.11/dist-packages (from robomimic==0.4.0) (2.37.0)\n",
            "Requirement already satisfied: imageio-ffmpeg in /usr/local/lib/python3.11/dist-packages (from robomimic==0.4.0) (0.6.0)\n",
            "Requirement already satisfied: matplotlib in /usr/local/lib/python3.11/dist-packages (from robomimic==0.4.0) (3.10.0)\n",
            "Collecting egl_probe>=1.0.1 (from robomimic==0.4.0)\n",
            "  Downloading egl_probe-1.0.2.tar.gz (217 kB)\n",
            "\u001b[2K     \u001b[90m━━━━━━━━━━━━━━━━━━━━━━━━━━━━━━━━━━━━━━━\u001b[0m \u001b[32m217.5/217.5 kB\u001b[0m \u001b[31m7.4 MB/s\u001b[0m eta \u001b[36m0:00:00\u001b[0m\n",
            "\u001b[?25h  Preparing metadata (setup.py) ... \u001b[?25l\u001b[?25hdone\n",
            "Requirement already satisfied: torch in /usr/local/lib/python3.11/dist-packages (from robomimic==0.4.0) (2.6.0+cu124)\n",
            "Requirement already satisfied: torchvision in /usr/local/lib/python3.11/dist-packages (from robomimic==0.4.0) (0.21.0+cu124)\n",
            "Requirement already satisfied: huggingface_hub in /usr/local/lib/python3.11/dist-packages (from robomimic==0.4.0) (0.31.2)\n",
            "Requirement already satisfied: filelock in /usr/local/lib/python3.11/dist-packages (from huggingface_hub->robomimic==0.4.0) (3.18.0)\n",
            "Requirement already satisfied: fsspec>=2023.5.0 in /usr/local/lib/python3.11/dist-packages (from huggingface_hub->robomimic==0.4.0) (2025.3.2)\n",
            "Requirement already satisfied: packaging>=20.9 in /usr/local/lib/python3.11/dist-packages (from huggingface_hub->robomimic==0.4.0) (24.2)\n",
            "Requirement already satisfied: pyyaml>=5.1 in /usr/local/lib/python3.11/dist-packages (from huggingface_hub->robomimic==0.4.0) (6.0.2)\n",
            "Requirement already satisfied: requests in /usr/local/lib/python3.11/dist-packages (from huggingface_hub->robomimic==0.4.0) (2.32.3)\n",
            "Requirement already satisfied: typing-extensions>=3.7.4.3 in /usr/local/lib/python3.11/dist-packages (from huggingface_hub->robomimic==0.4.0) (4.13.2)\n",
            "Requirement already satisfied: pillow>=8.3.2 in /usr/local/lib/python3.11/dist-packages (from imageio->robomimic==0.4.0) (11.2.1)\n",
            "Requirement already satisfied: contourpy>=1.0.1 in /usr/local/lib/python3.11/dist-packages (from matplotlib->robomimic==0.4.0) (1.3.2)\n",
            "Requirement already satisfied: cycler>=0.10 in /usr/local/lib/python3.11/dist-packages (from matplotlib->robomimic==0.4.0) (0.12.1)\n",
            "Requirement already satisfied: fonttools>=4.22.0 in /usr/local/lib/python3.11/dist-packages (from matplotlib->robomimic==0.4.0) (4.58.0)\n",
            "Requirement already satisfied: kiwisolver>=1.3.1 in /usr/local/lib/python3.11/dist-packages (from matplotlib->robomimic==0.4.0) (1.4.8)\n",
            "Requirement already satisfied: pyparsing>=2.3.1 in /usr/local/lib/python3.11/dist-packages (from matplotlib->robomimic==0.4.0) (3.2.3)\n",
            "Requirement already satisfied: python-dateutil>=2.7 in /usr/local/lib/python3.11/dist-packages (from matplotlib->robomimic==0.4.0) (2.9.0.post0)\n",
            "Requirement already satisfied: absl-py>=0.4 in /usr/local/lib/python3.11/dist-packages (from tensorboard->robomimic==0.4.0) (1.4.0)\n",
            "Requirement already satisfied: grpcio>=1.48.2 in /usr/local/lib/python3.11/dist-packages (from tensorboard->robomimic==0.4.0) (1.71.0)\n",
            "Requirement already satisfied: markdown>=2.6.8 in /usr/local/lib/python3.11/dist-packages (from tensorboard->robomimic==0.4.0) (3.8)\n",
            "Requirement already satisfied: protobuf!=4.24.0,>=3.19.6 in /usr/local/lib/python3.11/dist-packages (from tensorboard->robomimic==0.4.0) (5.29.4)\n",
            "Requirement already satisfied: setuptools>=41.0.0 in /usr/local/lib/python3.11/dist-packages (from tensorboard->robomimic==0.4.0) (75.2.0)\n",
            "Requirement already satisfied: six>1.9 in /usr/local/lib/python3.11/dist-packages (from tensorboard->robomimic==0.4.0) (1.17.0)\n",
            "Requirement already satisfied: tensorboard-data-server<0.8.0,>=0.7.0 in /usr/local/lib/python3.11/dist-packages (from tensorboard->robomimic==0.4.0) (0.7.2)\n",
            "Requirement already satisfied: werkzeug>=1.0.1 in /usr/local/lib/python3.11/dist-packages (from tensorboard->robomimic==0.4.0) (3.1.3)\n",
            "Requirement already satisfied: networkx in /usr/local/lib/python3.11/dist-packages (from torch->robomimic==0.4.0) (3.4.2)\n",
            "Requirement already satisfied: jinja2 in /usr/local/lib/python3.11/dist-packages (from torch->robomimic==0.4.0) (3.1.6)\n",
            "Collecting nvidia-cuda-nvrtc-cu12==12.4.127 (from torch->robomimic==0.4.0)\n",
            "  Downloading nvidia_cuda_nvrtc_cu12-12.4.127-py3-none-manylinux2014_x86_64.whl.metadata (1.5 kB)\n",
            "Collecting nvidia-cuda-runtime-cu12==12.4.127 (from torch->robomimic==0.4.0)\n",
            "  Downloading nvidia_cuda_runtime_cu12-12.4.127-py3-none-manylinux2014_x86_64.whl.metadata (1.5 kB)\n",
            "Collecting nvidia-cuda-cupti-cu12==12.4.127 (from torch->robomimic==0.4.0)\n",
            "  Downloading nvidia_cuda_cupti_cu12-12.4.127-py3-none-manylinux2014_x86_64.whl.metadata (1.6 kB)\n",
            "Collecting nvidia-cudnn-cu12==9.1.0.70 (from torch->robomimic==0.4.0)\n",
            "  Downloading nvidia_cudnn_cu12-9.1.0.70-py3-none-manylinux2014_x86_64.whl.metadata (1.6 kB)\n",
            "Collecting nvidia-cublas-cu12==12.4.5.8 (from torch->robomimic==0.4.0)\n",
            "  Downloading nvidia_cublas_cu12-12.4.5.8-py3-none-manylinux2014_x86_64.whl.metadata (1.5 kB)\n",
            "Collecting nvidia-cufft-cu12==11.2.1.3 (from torch->robomimic==0.4.0)\n",
            "  Downloading nvidia_cufft_cu12-11.2.1.3-py3-none-manylinux2014_x86_64.whl.metadata (1.5 kB)\n",
            "Collecting nvidia-curand-cu12==10.3.5.147 (from torch->robomimic==0.4.0)\n",
            "  Downloading nvidia_curand_cu12-10.3.5.147-py3-none-manylinux2014_x86_64.whl.metadata (1.5 kB)\n",
            "Collecting nvidia-cusolver-cu12==11.6.1.9 (from torch->robomimic==0.4.0)\n",
            "  Downloading nvidia_cusolver_cu12-11.6.1.9-py3-none-manylinux2014_x86_64.whl.metadata (1.6 kB)\n",
            "Collecting nvidia-cusparse-cu12==12.3.1.170 (from torch->robomimic==0.4.0)\n",
            "  Downloading nvidia_cusparse_cu12-12.3.1.170-py3-none-manylinux2014_x86_64.whl.metadata (1.6 kB)\n",
            "Requirement already satisfied: nvidia-cusparselt-cu12==0.6.2 in /usr/local/lib/python3.11/dist-packages (from torch->robomimic==0.4.0) (0.6.2)\n",
            "Requirement already satisfied: nvidia-nccl-cu12==2.21.5 in /usr/local/lib/python3.11/dist-packages (from torch->robomimic==0.4.0) (2.21.5)\n",
            "Requirement already satisfied: nvidia-nvtx-cu12==12.4.127 in /usr/local/lib/python3.11/dist-packages (from torch->robomimic==0.4.0) (12.4.127)\n",
            "Collecting nvidia-nvjitlink-cu12==12.4.127 (from torch->robomimic==0.4.0)\n",
            "  Downloading nvidia_nvjitlink_cu12-12.4.127-py3-none-manylinux2014_x86_64.whl.metadata (1.5 kB)\n",
            "Requirement already satisfied: triton==3.2.0 in /usr/local/lib/python3.11/dist-packages (from torch->robomimic==0.4.0) (3.2.0)\n",
            "Requirement already satisfied: sympy==1.13.1 in /usr/local/lib/python3.11/dist-packages (from torch->robomimic==0.4.0) (1.13.1)\n",
            "Requirement already satisfied: mpmath<1.4,>=1.1.0 in /usr/local/lib/python3.11/dist-packages (from sympy==1.13.1->torch->robomimic==0.4.0) (1.3.0)\n",
            "Requirement already satisfied: MarkupSafe>=2.1.1 in /usr/local/lib/python3.11/dist-packages (from werkzeug>=1.0.1->tensorboard->robomimic==0.4.0) (3.0.2)\n",
            "Requirement already satisfied: charset-normalizer<4,>=2 in /usr/local/lib/python3.11/dist-packages (from requests->huggingface_hub->robomimic==0.4.0) (3.4.2)\n",
            "Requirement already satisfied: idna<4,>=2.5 in /usr/local/lib/python3.11/dist-packages (from requests->huggingface_hub->robomimic==0.4.0) (3.10)\n",
            "Requirement already satisfied: urllib3<3,>=1.21.1 in /usr/local/lib/python3.11/dist-packages (from requests->huggingface_hub->robomimic==0.4.0) (2.4.0)\n",
            "Requirement already satisfied: certifi>=2017.4.17 in /usr/local/lib/python3.11/dist-packages (from requests->huggingface_hub->robomimic==0.4.0) (2025.4.26)\n",
            "Downloading tensorboardX-2.6.2.2-py2.py3-none-any.whl (101 kB)\n",
            "\u001b[2K   \u001b[90m━━━━━━━━━━━━━━━━━━━━━━━━━━━━━━━━━━━━━━━━\u001b[0m \u001b[32m101.7/101.7 kB\u001b[0m \u001b[31m1.1 MB/s\u001b[0m eta \u001b[36m0:00:00\u001b[0m\n",
            "\u001b[?25hDownloading nvidia_cublas_cu12-12.4.5.8-py3-none-manylinux2014_x86_64.whl (363.4 MB)\n",
            "\u001b[2K   \u001b[90m━━━━━━━━━━━━━━━━━━━━━━━━━━━━━━━━━━━━━━━━\u001b[0m \u001b[32m363.4/363.4 MB\u001b[0m \u001b[31m4.7 MB/s\u001b[0m eta \u001b[36m0:00:00\u001b[0m\n",
            "\u001b[?25hDownloading nvidia_cuda_cupti_cu12-12.4.127-py3-none-manylinux2014_x86_64.whl (13.8 MB)\n",
            "\u001b[2K   \u001b[90m━━━━━━━━━━━━━━━━━━━━━━━━━━━━━━━━━━━━━━━━\u001b[0m \u001b[32m13.8/13.8 MB\u001b[0m \u001b[31m106.3 MB/s\u001b[0m eta \u001b[36m0:00:00\u001b[0m\n",
            "\u001b[?25hDownloading nvidia_cuda_nvrtc_cu12-12.4.127-py3-none-manylinux2014_x86_64.whl (24.6 MB)\n",
            "\u001b[2K   \u001b[90m━━━━━━━━━━━━━━━━━━━━━━━━━━━━━━━━━━━━━━━━\u001b[0m \u001b[32m24.6/24.6 MB\u001b[0m \u001b[31m89.5 MB/s\u001b[0m eta \u001b[36m0:00:00\u001b[0m\n",
            "\u001b[?25hDownloading nvidia_cuda_runtime_cu12-12.4.127-py3-none-manylinux2014_x86_64.whl (883 kB)\n",
            "\u001b[2K   \u001b[90m━━━━━━━━━━━━━━━━━━━━━━━━━━━━━━━━━━━━━━━━\u001b[0m \u001b[32m883.7/883.7 kB\u001b[0m \u001b[31m58.5 MB/s\u001b[0m eta \u001b[36m0:00:00\u001b[0m\n",
            "\u001b[?25hDownloading nvidia_cudnn_cu12-9.1.0.70-py3-none-manylinux2014_x86_64.whl (664.8 MB)\n",
            "\u001b[2K   \u001b[90m━━━━━━━━━━━━━━━━━━━━━━━━━━━━━━━━━━━━━━━━\u001b[0m \u001b[32m664.8/664.8 MB\u001b[0m \u001b[31m2.7 MB/s\u001b[0m eta \u001b[36m0:00:00\u001b[0m\n",
            "\u001b[?25hDownloading nvidia_cufft_cu12-11.2.1.3-py3-none-manylinux2014_x86_64.whl (211.5 MB)\n",
            "\u001b[2K   \u001b[90m━━━━━━━━━━━━━━━━━━━━━━━━━━━━━━━━━━━━━━━━\u001b[0m \u001b[32m211.5/211.5 MB\u001b[0m \u001b[31m5.4 MB/s\u001b[0m eta \u001b[36m0:00:00\u001b[0m\n",
            "\u001b[?25hDownloading nvidia_curand_cu12-10.3.5.147-py3-none-manylinux2014_x86_64.whl (56.3 MB)\n",
            "\u001b[2K   \u001b[90m━━━━━━━━━━━━━━━━━━━━━━━━━━━━━━━━━━━━━━━━\u001b[0m \u001b[32m56.3/56.3 MB\u001b[0m \u001b[31m13.4 MB/s\u001b[0m eta \u001b[36m0:00:00\u001b[0m\n",
            "\u001b[?25hDownloading nvidia_cusolver_cu12-11.6.1.9-py3-none-manylinux2014_x86_64.whl (127.9 MB)\n",
            "\u001b[2K   \u001b[90m━━━━━━━━━━━━━━━━━━━━━━━━━━━━━━━━━━━━━━━━\u001b[0m \u001b[32m127.9/127.9 MB\u001b[0m \u001b[31m7.2 MB/s\u001b[0m eta \u001b[36m0:00:00\u001b[0m\n",
            "\u001b[?25hDownloading nvidia_cusparse_cu12-12.3.1.170-py3-none-manylinux2014_x86_64.whl (207.5 MB)\n",
            "\u001b[2K   \u001b[90m━━━━━━━━━━━━━━━━━━━━━━━━━━━━━━━━━━━━━━━━\u001b[0m \u001b[32m207.5/207.5 MB\u001b[0m \u001b[31m5.6 MB/s\u001b[0m eta \u001b[36m0:00:00\u001b[0m\n",
            "\u001b[?25hDownloading nvidia_nvjitlink_cu12-12.4.127-py3-none-manylinux2014_x86_64.whl (21.1 MB)\n",
            "\u001b[2K   \u001b[90m━━━━━━━━━━━━━━━━━━━━━━━━━━━━━━━━━━━━━━━━\u001b[0m \u001b[32m21.1/21.1 MB\u001b[0m \u001b[31m100.1 MB/s\u001b[0m eta \u001b[36m0:00:00\u001b[0m\n",
            "\u001b[?25hBuilding wheels for collected packages: egl_probe\n",
            "  Building wheel for egl_probe (setup.py) ... \u001b[?25l\u001b[?25hdone\n",
            "  Created wheel for egl_probe: filename=egl_probe-1.0.2-cp311-cp311-linux_x86_64.whl size=478069 sha256=acc232e54de7c4a81cebb4850ab307714f936a8aeeddce3e4144660c89022524\n",
            "  Stored in directory: /root/.cache/pip/wheels/fa/fb/31/094ecd1938a964427d319a7960441dce49359675bc09af4615\n",
            "Successfully built egl_probe\n",
            "Installing collected packages: egl_probe, tensorboardX, nvidia-nvjitlink-cu12, nvidia-curand-cu12, nvidia-cufft-cu12, nvidia-cuda-runtime-cu12, nvidia-cuda-nvrtc-cu12, nvidia-cuda-cupti-cu12, nvidia-cublas-cu12, nvidia-cusparse-cu12, nvidia-cudnn-cu12, nvidia-cusolver-cu12, robomimic\n",
            "  Attempting uninstall: nvidia-nvjitlink-cu12\n",
            "    Found existing installation: nvidia-nvjitlink-cu12 12.5.82\n",
            "    Uninstalling nvidia-nvjitlink-cu12-12.5.82:\n",
            "      Successfully uninstalled nvidia-nvjitlink-cu12-12.5.82\n",
            "  Attempting uninstall: nvidia-curand-cu12\n",
            "    Found existing installation: nvidia-curand-cu12 10.3.6.82\n",
            "    Uninstalling nvidia-curand-cu12-10.3.6.82:\n",
            "      Successfully uninstalled nvidia-curand-cu12-10.3.6.82\n",
            "  Attempting uninstall: nvidia-cufft-cu12\n",
            "    Found existing installation: nvidia-cufft-cu12 11.2.3.61\n",
            "    Uninstalling nvidia-cufft-cu12-11.2.3.61:\n",
            "      Successfully uninstalled nvidia-cufft-cu12-11.2.3.61\n",
            "  Attempting uninstall: nvidia-cuda-runtime-cu12\n",
            "    Found existing installation: nvidia-cuda-runtime-cu12 12.5.82\n",
            "    Uninstalling nvidia-cuda-runtime-cu12-12.5.82:\n",
            "      Successfully uninstalled nvidia-cuda-runtime-cu12-12.5.82\n",
            "  Attempting uninstall: nvidia-cuda-nvrtc-cu12\n",
            "    Found existing installation: nvidia-cuda-nvrtc-cu12 12.5.82\n",
            "    Uninstalling nvidia-cuda-nvrtc-cu12-12.5.82:\n",
            "      Successfully uninstalled nvidia-cuda-nvrtc-cu12-12.5.82\n",
            "  Attempting uninstall: nvidia-cuda-cupti-cu12\n",
            "    Found existing installation: nvidia-cuda-cupti-cu12 12.5.82\n",
            "    Uninstalling nvidia-cuda-cupti-cu12-12.5.82:\n",
            "      Successfully uninstalled nvidia-cuda-cupti-cu12-12.5.82\n",
            "  Attempting uninstall: nvidia-cublas-cu12\n",
            "    Found existing installation: nvidia-cublas-cu12 12.5.3.2\n",
            "    Uninstalling nvidia-cublas-cu12-12.5.3.2:\n",
            "      Successfully uninstalled nvidia-cublas-cu12-12.5.3.2\n",
            "  Attempting uninstall: nvidia-cusparse-cu12\n",
            "    Found existing installation: nvidia-cusparse-cu12 12.5.1.3\n",
            "    Uninstalling nvidia-cusparse-cu12-12.5.1.3:\n",
            "      Successfully uninstalled nvidia-cusparse-cu12-12.5.1.3\n",
            "  Attempting uninstall: nvidia-cudnn-cu12\n",
            "    Found existing installation: nvidia-cudnn-cu12 9.3.0.75\n",
            "    Uninstalling nvidia-cudnn-cu12-9.3.0.75:\n",
            "      Successfully uninstalled nvidia-cudnn-cu12-9.3.0.75\n",
            "  Attempting uninstall: nvidia-cusolver-cu12\n",
            "    Found existing installation: nvidia-cusolver-cu12 11.6.3.83\n",
            "    Uninstalling nvidia-cusolver-cu12-11.6.3.83:\n",
            "      Successfully uninstalled nvidia-cusolver-cu12-11.6.3.83\n",
            "  Running setup.py develop for robomimic\n",
            "Successfully installed egl_probe-1.0.2 nvidia-cublas-cu12-12.4.5.8 nvidia-cuda-cupti-cu12-12.4.127 nvidia-cuda-nvrtc-cu12-12.4.127 nvidia-cuda-runtime-cu12-12.4.127 nvidia-cudnn-cu12-9.1.0.70 nvidia-cufft-cu12-11.2.1.3 nvidia-curand-cu12-10.3.5.147 nvidia-cusolver-cu12-11.6.1.9 nvidia-cusparse-cu12-12.3.1.170 nvidia-nvjitlink-cu12-12.4.127 robomimic-0.4.0 tensorboardX-2.6.2.2\n",
            "Reading package lists... Done\n",
            "Building dependency tree... Done\n",
            "Reading state information... Done\n",
            "net-tools is already the newest version (1.60+git20181103.0eebece-1ubuntu5).\n",
            "curl is already the newest version (7.81.0-1ubuntu1.20).\n",
            "git is already the newest version (1:2.34.1-1ubuntu1.12).\n",
            "software-properties-common is already the newest version (0.99.22.9).\n",
            "unzip is already the newest version (6.0-26ubuntu3.2).\n",
            "vim is already the newest version (2:8.2.3995-1ubuntu2.24).\n",
            "wget is already the newest version (1.21.2-2ubuntu1.1).\n",
            "libgl1-mesa-glx is already the newest version (23.0.4-0ubuntu1~22.04.1).\n",
            "The following additional packages will be installed:\n",
            "  libdrm-dev libegl-dev libegl1-mesa-dev libfontenc-dev libgl-dev libgles-dev\n",
            "  libgles1 libglfw3 libglu1-mesa libglu1-mesa-dev libglvnd-core-dev\n",
            "  libglvnd-dev libglx-dev libopengl-dev libosmesa6 libpciaccess-dev\n",
            "  libvulkan-dev libvulkan1 libwayland-bin libwayland-dev libxcvt-dev libxcvt0\n",
            "  libxfont-dev libxkbfile-dev libxrandr-dev mesa-common-dev\n",
            "  mesa-vulkan-drivers python3-distlib python3-filelock python3-pip\n",
            "  python3-pip-whl python3-platformdirs python3-setuptools\n",
            "  python3-setuptools-whl python3-virtualenv python3-wheel python3-wheel-whl\n",
            "Suggested packages:\n",
            "  libglfw3-doc libwayland-doc python-setuptools-doc python2-pip-whl\n",
            "  python2-setuptools-whl\n",
            "The following NEW packages will be installed:\n",
            "  libdrm-dev libegl-dev libegl1-mesa-dev libfontenc-dev libgl-dev\n",
            "  libgl1-mesa-dev libgles-dev libgles1 libglew-dev libglfw3 libglfw3-dev\n",
            "  libglu1-mesa libglu1-mesa-dev libglvnd-core-dev libglvnd-dev libglx-dev\n",
            "  libopengl-dev libosmesa6 libosmesa6-dev libpciaccess-dev libvulkan-dev\n",
            "  libvulkan1 libwayland-bin libwayland-dev libxcvt-dev libxcvt0 libxfont-dev\n",
            "  libxkbfile-dev libxrandr-dev mesa-common-dev mesa-vulkan-drivers patchelf\n",
            "  python3-distlib python3-filelock python3-pip python3-pip-whl\n",
            "  python3-platformdirs python3-setuptools python3-setuptools-whl\n",
            "  python3-virtualenv python3-wheel python3-wheel-whl virtualenv\n",
            "  xserver-xorg-dev\n",
            "0 upgraded, 44 newly installed, 0 to remove and 34 not upgraded.\n",
            "Need to get 23.6 MB of archives.\n",
            "After this operation, 109 MB of additional disk space will be used.\n",
            "Get:1 http://archive.ubuntu.com/ubuntu jammy/main amd64 libpciaccess-dev amd64 0.16-3 [21.9 kB]\n",
            "Get:2 http://archive.ubuntu.com/ubuntu jammy-updates/main amd64 libdrm-dev amd64 2.4.113-2~ubuntu0.22.04.1 [292 kB]\n",
            "Get:3 http://archive.ubuntu.com/ubuntu jammy/main amd64 libglx-dev amd64 1.4.0-1 [14.1 kB]\n",
            "Get:4 http://archive.ubuntu.com/ubuntu jammy/main amd64 libgl-dev amd64 1.4.0-1 [101 kB]\n",
            "Get:5 http://archive.ubuntu.com/ubuntu jammy/main amd64 libegl-dev amd64 1.4.0-1 [18.0 kB]\n",
            "Get:6 http://archive.ubuntu.com/ubuntu jammy/main amd64 libglvnd-core-dev amd64 1.4.0-1 [12.7 kB]\n",
            "Get:7 http://archive.ubuntu.com/ubuntu jammy/main amd64 libgles1 amd64 1.4.0-1 [11.5 kB]\n",
            "Get:8 http://archive.ubuntu.com/ubuntu jammy/main amd64 libgles-dev amd64 1.4.0-1 [49.4 kB]\n",
            "Get:9 http://archive.ubuntu.com/ubuntu jammy/main amd64 libopengl-dev amd64 1.4.0-1 [3,400 B]\n",
            "Get:10 http://archive.ubuntu.com/ubuntu jammy/main amd64 libglvnd-dev amd64 1.4.0-1 [3,162 B]\n",
            "Get:11 http://archive.ubuntu.com/ubuntu jammy-updates/main amd64 libegl1-mesa-dev amd64 23.2.1-1ubuntu3.1~22.04.3 [11.1 kB]\n",
            "Get:12 http://archive.ubuntu.com/ubuntu jammy/main amd64 libfontenc-dev amd64 1:1.1.4-1build3 [15.4 kB]\n",
            "Get:13 http://archive.ubuntu.com/ubuntu jammy-updates/main amd64 libgl1-mesa-dev amd64 23.2.1-1ubuntu3.1~22.04.3 [6,848 B]\n",
            "Get:14 http://archive.ubuntu.com/ubuntu jammy/main amd64 libglu1-mesa amd64 9.0.2-1 [145 kB]\n",
            "Get:15 http://archive.ubuntu.com/ubuntu jammy/main amd64 libglu1-mesa-dev amd64 9.0.2-1 [231 kB]\n",
            "Get:16 http://archive.ubuntu.com/ubuntu jammy/universe amd64 libglew-dev amd64 2.2.0-4 [287 kB]\n",
            "Get:17 http://archive.ubuntu.com/ubuntu jammy/universe amd64 libglfw3 amd64 3.3.6-1 [83.2 kB]\n",
            "Get:18 http://archive.ubuntu.com/ubuntu jammy/universe amd64 libglfw3-dev amd64 3.3.6-1 [41.1 kB]\n",
            "Get:19 http://archive.ubuntu.com/ubuntu jammy/main amd64 libvulkan1 amd64 1.3.204.1-2 [128 kB]\n",
            "Get:20 http://archive.ubuntu.com/ubuntu jammy/main amd64 libvulkan-dev amd64 1.3.204.1-2 [892 kB]\n",
            "Get:21 http://archive.ubuntu.com/ubuntu jammy/main amd64 libxcvt0 amd64 0.1.1-3 [5,494 B]\n",
            "Get:22 http://archive.ubuntu.com/ubuntu jammy/main amd64 libxcvt-dev amd64 0.1.1-3 [3,242 B]\n",
            "Get:23 http://archive.ubuntu.com/ubuntu jammy/main amd64 libxfont-dev amd64 1:2.0.5-1build1 [128 kB]\n",
            "Get:24 http://archive.ubuntu.com/ubuntu jammy/main amd64 libxkbfile-dev amd64 1:1.1.0-1build3 [85.0 kB]\n",
            "Get:25 http://archive.ubuntu.com/ubuntu jammy/main amd64 libxrandr-dev amd64 2:1.5.2-1build1 [26.7 kB]\n",
            "Get:26 http://archive.ubuntu.com/ubuntu jammy-updates/main amd64 mesa-common-dev amd64 23.2.1-1ubuntu3.1~22.04.3 [2,208 kB]\n",
            "Get:27 http://archive.ubuntu.com/ubuntu jammy-updates/main amd64 mesa-vulkan-drivers amd64 23.2.1-1ubuntu3.1~22.04.3 [10.7 MB]\n",
            "Get:28 http://archive.ubuntu.com/ubuntu jammy/universe amd64 patchelf amd64 0.14.3-1 [72.1 kB]\n",
            "Get:29 http://archive.ubuntu.com/ubuntu jammy/universe amd64 python3-distlib all 0.3.4-1 [269 kB]\n",
            "Get:30 http://archive.ubuntu.com/ubuntu jammy/universe amd64 python3-filelock all 3.6.0-1 [8,788 B]\n",
            "Get:31 http://archive.ubuntu.com/ubuntu jammy-updates/main amd64 python3-setuptools all 59.6.0-1.2ubuntu0.22.04.2 [340 kB]\n",
            "Get:32 http://archive.ubuntu.com/ubuntu jammy-updates/universe amd64 python3-wheel all 0.37.1-2ubuntu0.22.04.1 [32.0 kB]\n",
            "Get:33 http://archive.ubuntu.com/ubuntu jammy-updates/universe amd64 python3-pip all 22.0.2+dfsg-1ubuntu0.5 [1,306 kB]\n",
            "Get:34 http://archive.ubuntu.com/ubuntu jammy-updates/universe amd64 python3-pip-whl all 22.0.2+dfsg-1ubuntu0.5 [1,680 kB]\n",
            "Get:35 http://archive.ubuntu.com/ubuntu jammy/universe amd64 python3-platformdirs all 2.5.1-1 [14.2 kB]\n",
            "Get:36 http://archive.ubuntu.com/ubuntu jammy-updates/universe amd64 python3-setuptools-whl all 59.6.0-1.2ubuntu0.22.04.2 [788 kB]\n",
            "Get:37 http://archive.ubuntu.com/ubuntu jammy-updates/universe amd64 python3-wheel-whl all 0.37.1-2ubuntu0.22.04.1 [38.0 kB]\n",
            "Get:38 http://archive.ubuntu.com/ubuntu jammy/universe amd64 python3-virtualenv all 20.13.0+ds-2 [80.3 kB]\n",
            "Get:39 http://archive.ubuntu.com/ubuntu jammy/universe amd64 virtualenv all 20.13.0+ds-2 [1,968 B]\n",
            "Get:40 http://archive.ubuntu.com/ubuntu jammy-updates/main amd64 xserver-xorg-dev amd64 2:21.1.4-2ubuntu1.7~22.04.14 [204 kB]\n",
            "Get:41 http://archive.ubuntu.com/ubuntu jammy-updates/main amd64 libosmesa6 amd64 23.2.1-1ubuntu3.1~22.04.3 [3,115 kB]\n",
            "Get:42 http://archive.ubuntu.com/ubuntu jammy-updates/main amd64 libosmesa6-dev amd64 23.2.1-1ubuntu3.1~22.04.3 [8,984 B]\n",
            "Get:43 http://archive.ubuntu.com/ubuntu jammy-updates/main amd64 libwayland-bin amd64 1.20.0-1ubuntu0.1 [20.4 kB]\n",
            "Get:44 http://archive.ubuntu.com/ubuntu jammy-updates/main amd64 libwayland-dev amd64 1.20.0-1ubuntu0.1 [69.5 kB]\n",
            "Fetched 23.6 MB in 2s (14.6 MB/s)\n",
            "debconf: unable to initialize frontend: Dialog\n",
            "debconf: (No usable dialog-like program is installed, so the dialog based frontend cannot be used. at /usr/share/perl5/Debconf/FrontEnd/Dialog.pm line 78, <> line 44.)\n",
            "debconf: falling back to frontend: Readline\n",
            "debconf: unable to initialize frontend: Readline\n",
            "debconf: (This frontend requires a controlling tty.)\n",
            "debconf: falling back to frontend: Teletype\n",
            "dpkg-preconfigure: unable to re-open stdin: \n",
            "Selecting previously unselected package libpciaccess-dev:amd64.\n",
            "(Reading database ... 126102 files and directories currently installed.)\n",
            "Preparing to unpack .../00-libpciaccess-dev_0.16-3_amd64.deb ...\n",
            "Unpacking libpciaccess-dev:amd64 (0.16-3) ...\n",
            "Selecting previously unselected package libdrm-dev:amd64.\n",
            "Preparing to unpack .../01-libdrm-dev_2.4.113-2~ubuntu0.22.04.1_amd64.deb ...\n",
            "Unpacking libdrm-dev:amd64 (2.4.113-2~ubuntu0.22.04.1) ...\n",
            "Selecting previously unselected package libglx-dev:amd64.\n",
            "Preparing to unpack .../02-libglx-dev_1.4.0-1_amd64.deb ...\n",
            "Unpacking libglx-dev:amd64 (1.4.0-1) ...\n",
            "Selecting previously unselected package libgl-dev:amd64.\n",
            "Preparing to unpack .../03-libgl-dev_1.4.0-1_amd64.deb ...\n",
            "Unpacking libgl-dev:amd64 (1.4.0-1) ...\n",
            "Selecting previously unselected package libegl-dev:amd64.\n",
            "Preparing to unpack .../04-libegl-dev_1.4.0-1_amd64.deb ...\n",
            "Unpacking libegl-dev:amd64 (1.4.0-1) ...\n",
            "Selecting previously unselected package libglvnd-core-dev:amd64.\n",
            "Preparing to unpack .../05-libglvnd-core-dev_1.4.0-1_amd64.deb ...\n",
            "Unpacking libglvnd-core-dev:amd64 (1.4.0-1) ...\n",
            "Selecting previously unselected package libgles1:amd64.\n",
            "Preparing to unpack .../06-libgles1_1.4.0-1_amd64.deb ...\n",
            "Unpacking libgles1:amd64 (1.4.0-1) ...\n",
            "Selecting previously unselected package libgles-dev:amd64.\n",
            "Preparing to unpack .../07-libgles-dev_1.4.0-1_amd64.deb ...\n",
            "Unpacking libgles-dev:amd64 (1.4.0-1) ...\n",
            "Selecting previously unselected package libopengl-dev:amd64.\n",
            "Preparing to unpack .../08-libopengl-dev_1.4.0-1_amd64.deb ...\n",
            "Unpacking libopengl-dev:amd64 (1.4.0-1) ...\n",
            "Selecting previously unselected package libglvnd-dev:amd64.\n",
            "Preparing to unpack .../09-libglvnd-dev_1.4.0-1_amd64.deb ...\n",
            "Unpacking libglvnd-dev:amd64 (1.4.0-1) ...\n",
            "Selecting previously unselected package libegl1-mesa-dev:amd64.\n",
            "Preparing to unpack .../10-libegl1-mesa-dev_23.2.1-1ubuntu3.1~22.04.3_amd64.deb ...\n",
            "Unpacking libegl1-mesa-dev:amd64 (23.2.1-1ubuntu3.1~22.04.3) ...\n",
            "Selecting previously unselected package libfontenc-dev:amd64.\n",
            "Preparing to unpack .../11-libfontenc-dev_1%3a1.1.4-1build3_amd64.deb ...\n",
            "Unpacking libfontenc-dev:amd64 (1:1.1.4-1build3) ...\n",
            "Selecting previously unselected package libgl1-mesa-dev:amd64.\n",
            "Preparing to unpack .../12-libgl1-mesa-dev_23.2.1-1ubuntu3.1~22.04.3_amd64.deb ...\n",
            "Unpacking libgl1-mesa-dev:amd64 (23.2.1-1ubuntu3.1~22.04.3) ...\n",
            "Selecting previously unselected package libglu1-mesa:amd64.\n",
            "Preparing to unpack .../13-libglu1-mesa_9.0.2-1_amd64.deb ...\n",
            "Unpacking libglu1-mesa:amd64 (9.0.2-1) ...\n",
            "Selecting previously unselected package libglu1-mesa-dev:amd64.\n",
            "Preparing to unpack .../14-libglu1-mesa-dev_9.0.2-1_amd64.deb ...\n",
            "Unpacking libglu1-mesa-dev:amd64 (9.0.2-1) ...\n",
            "Selecting previously unselected package libglew-dev:amd64.\n",
            "Preparing to unpack .../15-libglew-dev_2.2.0-4_amd64.deb ...\n",
            "Unpacking libglew-dev:amd64 (2.2.0-4) ...\n",
            "Selecting previously unselected package libglfw3:amd64.\n",
            "Preparing to unpack .../16-libglfw3_3.3.6-1_amd64.deb ...\n",
            "Unpacking libglfw3:amd64 (3.3.6-1) ...\n",
            "Selecting previously unselected package libglfw3-dev:amd64.\n",
            "Preparing to unpack .../17-libglfw3-dev_3.3.6-1_amd64.deb ...\n",
            "Unpacking libglfw3-dev:amd64 (3.3.6-1) ...\n",
            "Selecting previously unselected package libvulkan1:amd64.\n",
            "Preparing to unpack .../18-libvulkan1_1.3.204.1-2_amd64.deb ...\n",
            "Unpacking libvulkan1:amd64 (1.3.204.1-2) ...\n",
            "Selecting previously unselected package libvulkan-dev:amd64.\n",
            "Preparing to unpack .../19-libvulkan-dev_1.3.204.1-2_amd64.deb ...\n",
            "Unpacking libvulkan-dev:amd64 (1.3.204.1-2) ...\n",
            "Selecting previously unselected package libxcvt0:amd64.\n",
            "Preparing to unpack .../20-libxcvt0_0.1.1-3_amd64.deb ...\n",
            "Unpacking libxcvt0:amd64 (0.1.1-3) ...\n",
            "Selecting previously unselected package libxcvt-dev:amd64.\n",
            "Preparing to unpack .../21-libxcvt-dev_0.1.1-3_amd64.deb ...\n",
            "Unpacking libxcvt-dev:amd64 (0.1.1-3) ...\n",
            "Selecting previously unselected package libxfont-dev.\n",
            "Preparing to unpack .../22-libxfont-dev_1%3a2.0.5-1build1_amd64.deb ...\n",
            "Unpacking libxfont-dev (1:2.0.5-1build1) ...\n",
            "Selecting previously unselected package libxkbfile-dev:amd64.\n",
            "Preparing to unpack .../23-libxkbfile-dev_1%3a1.1.0-1build3_amd64.deb ...\n",
            "Unpacking libxkbfile-dev:amd64 (1:1.1.0-1build3) ...\n",
            "Selecting previously unselected package libxrandr-dev:amd64.\n",
            "Preparing to unpack .../24-libxrandr-dev_2%3a1.5.2-1build1_amd64.deb ...\n",
            "Unpacking libxrandr-dev:amd64 (2:1.5.2-1build1) ...\n",
            "Selecting previously unselected package mesa-common-dev:amd64.\n",
            "Preparing to unpack .../25-mesa-common-dev_23.2.1-1ubuntu3.1~22.04.3_amd64.deb ...\n",
            "Unpacking mesa-common-dev:amd64 (23.2.1-1ubuntu3.1~22.04.3) ...\n",
            "Selecting previously unselected package mesa-vulkan-drivers:amd64.\n",
            "Preparing to unpack .../26-mesa-vulkan-drivers_23.2.1-1ubuntu3.1~22.04.3_amd64.deb ...\n",
            "Unpacking mesa-vulkan-drivers:amd64 (23.2.1-1ubuntu3.1~22.04.3) ...\n",
            "Selecting previously unselected package patchelf.\n",
            "Preparing to unpack .../27-patchelf_0.14.3-1_amd64.deb ...\n",
            "Unpacking patchelf (0.14.3-1) ...\n",
            "Selecting previously unselected package python3-distlib.\n",
            "Preparing to unpack .../28-python3-distlib_0.3.4-1_all.deb ...\n",
            "Unpacking python3-distlib (0.3.4-1) ...\n",
            "Selecting previously unselected package python3-filelock.\n",
            "Preparing to unpack .../29-python3-filelock_3.6.0-1_all.deb ...\n",
            "Unpacking python3-filelock (3.6.0-1) ...\n",
            "Selecting previously unselected package python3-setuptools.\n",
            "Preparing to unpack .../30-python3-setuptools_59.6.0-1.2ubuntu0.22.04.2_all.deb ...\n",
            "Unpacking python3-setuptools (59.6.0-1.2ubuntu0.22.04.2) ...\n",
            "Selecting previously unselected package python3-wheel.\n",
            "Preparing to unpack .../31-python3-wheel_0.37.1-2ubuntu0.22.04.1_all.deb ...\n",
            "Unpacking python3-wheel (0.37.1-2ubuntu0.22.04.1) ...\n",
            "Selecting previously unselected package python3-pip.\n",
            "Preparing to unpack .../32-python3-pip_22.0.2+dfsg-1ubuntu0.5_all.deb ...\n",
            "Unpacking python3-pip (22.0.2+dfsg-1ubuntu0.5) ...\n",
            "Selecting previously unselected package python3-pip-whl.\n",
            "Preparing to unpack .../33-python3-pip-whl_22.0.2+dfsg-1ubuntu0.5_all.deb ...\n",
            "Unpacking python3-pip-whl (22.0.2+dfsg-1ubuntu0.5) ...\n",
            "Selecting previously unselected package python3-platformdirs.\n",
            "Preparing to unpack .../34-python3-platformdirs_2.5.1-1_all.deb ...\n",
            "Unpacking python3-platformdirs (2.5.1-1) ...\n",
            "Selecting previously unselected package python3-setuptools-whl.\n",
            "Preparing to unpack .../35-python3-setuptools-whl_59.6.0-1.2ubuntu0.22.04.2_all.deb ...\n",
            "Unpacking python3-setuptools-whl (59.6.0-1.2ubuntu0.22.04.2) ...\n",
            "Selecting previously unselected package python3-wheel-whl.\n",
            "Preparing to unpack .../36-python3-wheel-whl_0.37.1-2ubuntu0.22.04.1_all.deb ...\n",
            "Unpacking python3-wheel-whl (0.37.1-2ubuntu0.22.04.1) ...\n",
            "Selecting previously unselected package python3-virtualenv.\n",
            "Preparing to unpack .../37-python3-virtualenv_20.13.0+ds-2_all.deb ...\n",
            "Unpacking python3-virtualenv (20.13.0+ds-2) ...\n",
            "Selecting previously unselected package virtualenv.\n",
            "Preparing to unpack .../38-virtualenv_20.13.0+ds-2_all.deb ...\n",
            "Unpacking virtualenv (20.13.0+ds-2) ...\n",
            "Selecting previously unselected package xserver-xorg-dev.\n",
            "Preparing to unpack .../39-xserver-xorg-dev_2%3a21.1.4-2ubuntu1.7~22.04.14_amd64.deb ...\n",
            "Unpacking xserver-xorg-dev (2:21.1.4-2ubuntu1.7~22.04.14) ...\n",
            "Selecting previously unselected package libosmesa6:amd64.\n",
            "Preparing to unpack .../40-libosmesa6_23.2.1-1ubuntu3.1~22.04.3_amd64.deb ...\n",
            "Unpacking libosmesa6:amd64 (23.2.1-1ubuntu3.1~22.04.3) ...\n",
            "Selecting previously unselected package libosmesa6-dev:amd64.\n",
            "Preparing to unpack .../41-libosmesa6-dev_23.2.1-1ubuntu3.1~22.04.3_amd64.deb ...\n",
            "Unpacking libosmesa6-dev:amd64 (23.2.1-1ubuntu3.1~22.04.3) ...\n",
            "Selecting previously unselected package libwayland-bin.\n",
            "Preparing to unpack .../42-libwayland-bin_1.20.0-1ubuntu0.1_amd64.deb ...\n",
            "Unpacking libwayland-bin (1.20.0-1ubuntu0.1) ...\n",
            "Selecting previously unselected package libwayland-dev:amd64.\n",
            "Preparing to unpack .../43-libwayland-dev_1.20.0-1ubuntu0.1_amd64.deb ...\n",
            "Unpacking libwayland-dev:amd64 (1.20.0-1ubuntu0.1) ...\n",
            "Setting up libglfw3:amd64 (3.3.6-1) ...\n",
            "Setting up python3-setuptools-whl (59.6.0-1.2ubuntu0.22.04.2) ...\n",
            "Setting up python3-filelock (3.6.0-1) ...\n",
            "Setting up libpciaccess-dev:amd64 (0.16-3) ...\n",
            "Setting up python3-setuptools (59.6.0-1.2ubuntu0.22.04.2) ...\n",
            "Setting up libglvnd-core-dev:amd64 (1.4.0-1) ...\n",
            "Setting up python3-pip-whl (22.0.2+dfsg-1ubuntu0.5) ...\n",
            "Setting up libfontenc-dev:amd64 (1:1.1.4-1build3) ...\n",
            "Setting up python3-distlib (0.3.4-1) ...\n",
            "Setting up python3-wheel (0.37.1-2ubuntu0.22.04.1) ...\n",
            "Setting up python3-platformdirs (2.5.1-1) ...\n",
            "Setting up libwayland-bin (1.20.0-1ubuntu0.1) ...\n",
            "Setting up libxrandr-dev:amd64 (2:1.5.2-1build1) ...\n",
            "Setting up libgles1:amd64 (1.4.0-1) ...\n",
            "Setting up python3-pip (22.0.2+dfsg-1ubuntu0.5) ...\n",
            "Setting up libvulkan1:amd64 (1.3.204.1-2) ...\n",
            "Setting up libxcvt0:amd64 (0.1.1-3) ...\n",
            "Setting up libglx-dev:amd64 (1.4.0-1) ...\n",
            "Setting up libglu1-mesa:amd64 (9.0.2-1) ...\n",
            "Setting up libopengl-dev:amd64 (1.4.0-1) ...\n",
            "Setting up patchelf (0.14.3-1) ...\n",
            "Setting up python3-wheel-whl (0.37.1-2ubuntu0.22.04.1) ...\n",
            "Setting up libgl-dev:amd64 (1.4.0-1) ...\n",
            "Setting up libxkbfile-dev:amd64 (1:1.1.0-1build3) ...\n",
            "Setting up libosmesa6:amd64 (23.2.1-1ubuntu3.1~22.04.3) ...\n",
            "Setting up mesa-vulkan-drivers:amd64 (23.2.1-1ubuntu3.1~22.04.3) ...\n",
            "Setting up libdrm-dev:amd64 (2.4.113-2~ubuntu0.22.04.1) ...\n",
            "Setting up libvulkan-dev:amd64 (1.3.204.1-2) ...\n",
            "Setting up libxcvt-dev:amd64 (0.1.1-3) ...\n",
            "Setting up libglfw3-dev:amd64 (3.3.6-1) ...\n",
            "Setting up libegl-dev:amd64 (1.4.0-1) ...\n",
            "Setting up libxfont-dev (1:2.0.5-1build1) ...\n",
            "Setting up python3-virtualenv (20.13.0+ds-2) ...\n",
            "Setting up libwayland-dev:amd64 (1.20.0-1ubuntu0.1) ...\n",
            "Setting up virtualenv (20.13.0+ds-2) ...\n",
            "Setting up libglu1-mesa-dev:amd64 (9.0.2-1) ...\n",
            "Setting up libosmesa6-dev:amd64 (23.2.1-1ubuntu3.1~22.04.3) ...\n",
            "Setting up mesa-common-dev:amd64 (23.2.1-1ubuntu3.1~22.04.3) ...\n",
            "Setting up libgles-dev:amd64 (1.4.0-1) ...\n",
            "Setting up xserver-xorg-dev (2:21.1.4-2ubuntu1.7~22.04.14) ...\n",
            "Setting up libglvnd-dev:amd64 (1.4.0-1) ...\n",
            "Setting up libglew-dev:amd64 (2.2.0-4) ...\n",
            "Setting up libgl1-mesa-dev:amd64 (23.2.1-1ubuntu3.1~22.04.3) ...\n",
            "Setting up libegl1-mesa-dev:amd64 (23.2.1-1ubuntu3.1~22.04.3) ...\n",
            "Processing triggers for man-db (2.10.2-1) ...\n",
            "Processing triggers for libc-bin (2.35-0ubuntu3.8) ...\n",
            "/sbin/ldconfig.real: /usr/local/lib/libtbbmalloc.so.2 is not a symbolic link\n",
            "\n",
            "/sbin/ldconfig.real: /usr/local/lib/libtcm.so.1 is not a symbolic link\n",
            "\n",
            "/sbin/ldconfig.real: /usr/local/lib/libur_loader.so.0 is not a symbolic link\n",
            "\n",
            "/sbin/ldconfig.real: /usr/local/lib/libtbbbind_2_5.so.3 is not a symbolic link\n",
            "\n",
            "/sbin/ldconfig.real: /usr/local/lib/libumf.so.0 is not a symbolic link\n",
            "\n",
            "/sbin/ldconfig.real: /usr/local/lib/libtbbmalloc_proxy.so.2 is not a symbolic link\n",
            "\n",
            "/sbin/ldconfig.real: /usr/local/lib/libtbbbind_2_0.so.3 is not a symbolic link\n",
            "\n",
            "/sbin/ldconfig.real: /usr/local/lib/libhwloc.so.15 is not a symbolic link\n",
            "\n",
            "/sbin/ldconfig.real: /usr/local/lib/libur_adapter_level_zero.so.0 is not a symbolic link\n",
            "\n",
            "/sbin/ldconfig.real: /usr/local/lib/libtbb.so.12 is not a symbolic link\n",
            "\n",
            "/sbin/ldconfig.real: /usr/local/lib/libtbbbind.so.3 is not a symbolic link\n",
            "\n",
            "/sbin/ldconfig.real: /usr/local/lib/libur_adapter_opencl.so.0 is not a symbolic link\n",
            "\n",
            "/sbin/ldconfig.real: /usr/local/lib/libtcm_debug.so.1 is not a symbolic link\n",
            "\n",
            "Collecting mujoco\n",
            "  Downloading mujoco-3.3.2-cp311-cp311-manylinux_2_17_x86_64.manylinux2014_x86_64.whl.metadata (44 kB)\n",
            "\u001b[2K     \u001b[90m━━━━━━━━━━━━━━━━━━━━━━━━━━━━━━━━━━━━━━━━\u001b[0m \u001b[32m44.4/44.4 kB\u001b[0m \u001b[31m4.2 MB/s\u001b[0m eta \u001b[36m0:00:00\u001b[0m\n",
            "\u001b[?25hRequirement already satisfied: absl-py in /usr/local/lib/python3.11/dist-packages (from mujoco) (1.4.0)\n",
            "Requirement already satisfied: etils[epath] in /usr/local/lib/python3.11/dist-packages (from mujoco) (1.12.2)\n",
            "Collecting glfw (from mujoco)\n",
            "  Downloading glfw-2.9.0-py2.py27.py3.py30.py31.py32.py33.py34.py35.py36.py37.py38.p39.p310.p311.p312.p313-none-manylinux_2_28_x86_64.whl.metadata (5.4 kB)\n",
            "Requirement already satisfied: numpy in /usr/local/lib/python3.11/dist-packages (from mujoco) (2.0.2)\n",
            "Requirement already satisfied: pyopengl in /usr/local/lib/python3.11/dist-packages (from mujoco) (3.1.9)\n",
            "Requirement already satisfied: fsspec in /usr/local/lib/python3.11/dist-packages (from etils[epath]->mujoco) (2025.3.2)\n",
            "Requirement already satisfied: importlib_resources in /usr/local/lib/python3.11/dist-packages (from etils[epath]->mujoco) (6.5.2)\n",
            "Requirement already satisfied: typing_extensions in /usr/local/lib/python3.11/dist-packages (from etils[epath]->mujoco) (4.13.2)\n",
            "Requirement already satisfied: zipp in /usr/local/lib/python3.11/dist-packages (from etils[epath]->mujoco) (3.21.0)\n",
            "Downloading mujoco-3.3.2-cp311-cp311-manylinux_2_17_x86_64.manylinux2014_x86_64.whl (6.6 MB)\n",
            "\u001b[2K   \u001b[90m━━━━━━━━━━━━━━━━━━━━━━━━━━━━━━━━━━━━━━━━\u001b[0m \u001b[32m6.6/6.6 MB\u001b[0m \u001b[31m85.7 MB/s\u001b[0m eta \u001b[36m0:00:00\u001b[0m\n",
            "\u001b[?25hDownloading glfw-2.9.0-py2.py27.py3.py30.py31.py32.py33.py34.py35.py36.py37.py38.p39.p310.p311.p312.p313-none-manylinux_2_28_x86_64.whl (243 kB)\n",
            "\u001b[2K   \u001b[90m━━━━━━━━━━━━━━━━━━━━━━━━━━━━━━━━━━━━━━━━\u001b[0m \u001b[32m243.5/243.5 kB\u001b[0m \u001b[31m20.3 MB/s\u001b[0m eta \u001b[36m0:00:00\u001b[0m\n",
            "\u001b[?25hInstalling collected packages: glfw, mujoco\n",
            "Successfully installed glfw-2.9.0 mujoco-3.3.2\n",
            "Collecting robosuite==1.4.1\n",
            "  Downloading robosuite-1.4.1-py3-none-any.whl.metadata (5.6 kB)\n",
            "Requirement already satisfied: numpy>=1.13.3 in /usr/local/lib/python3.11/dist-packages (from robosuite==1.4.1) (2.0.2)\n",
            "Requirement already satisfied: numba>=0.49.1 in /usr/local/lib/python3.11/dist-packages (from robosuite==1.4.1) (0.60.0)\n",
            "Requirement already satisfied: scipy>=1.2.3 in /usr/local/lib/python3.11/dist-packages (from robosuite==1.4.1) (1.15.3)\n",
            "Requirement already satisfied: mujoco>=2.3.0 in /usr/local/lib/python3.11/dist-packages (from robosuite==1.4.1) (3.3.2)\n",
            "Requirement already satisfied: Pillow in /usr/local/lib/python3.11/dist-packages (from robosuite==1.4.1) (11.2.1)\n",
            "Requirement already satisfied: opencv-python in /usr/local/lib/python3.11/dist-packages (from robosuite==1.4.1) (4.11.0.86)\n",
            "Collecting pynput (from robosuite==1.4.1)\n",
            "  Downloading pynput-1.8.1-py2.py3-none-any.whl.metadata (32 kB)\n",
            "Requirement already satisfied: termcolor in /usr/local/lib/python3.11/dist-packages (from robosuite==1.4.1) (3.1.0)\n",
            "Requirement already satisfied: absl-py in /usr/local/lib/python3.11/dist-packages (from mujoco>=2.3.0->robosuite==1.4.1) (1.4.0)\n",
            "Requirement already satisfied: etils[epath] in /usr/local/lib/python3.11/dist-packages (from mujoco>=2.3.0->robosuite==1.4.1) (1.12.2)\n",
            "Requirement already satisfied: glfw in /usr/local/lib/python3.11/dist-packages (from mujoco>=2.3.0->robosuite==1.4.1) (2.9.0)\n",
            "Requirement already satisfied: pyopengl in /usr/local/lib/python3.11/dist-packages (from mujoco>=2.3.0->robosuite==1.4.1) (3.1.9)\n",
            "Requirement already satisfied: llvmlite<0.44,>=0.43.0dev0 in /usr/local/lib/python3.11/dist-packages (from numba>=0.49.1->robosuite==1.4.1) (0.43.0)\n",
            "Requirement already satisfied: six in /usr/local/lib/python3.11/dist-packages (from pynput->robosuite==1.4.1) (1.17.0)\n",
            "Collecting evdev>=1.3 (from pynput->robosuite==1.4.1)\n",
            "  Downloading evdev-1.9.2.tar.gz (33 kB)\n",
            "  Installing build dependencies ... \u001b[?25l\u001b[?25hdone\n",
            "  Getting requirements to build wheel ... \u001b[?25l\u001b[?25hdone\n",
            "  Preparing metadata (pyproject.toml) ... \u001b[?25l\u001b[?25hdone\n",
            "Collecting python-xlib>=0.17 (from pynput->robosuite==1.4.1)\n",
            "  Downloading python_xlib-0.33-py2.py3-none-any.whl.metadata (6.2 kB)\n",
            "Requirement already satisfied: fsspec in /usr/local/lib/python3.11/dist-packages (from etils[epath]->mujoco>=2.3.0->robosuite==1.4.1) (2025.3.2)\n",
            "Requirement already satisfied: importlib_resources in /usr/local/lib/python3.11/dist-packages (from etils[epath]->mujoco>=2.3.0->robosuite==1.4.1) (6.5.2)\n",
            "Requirement already satisfied: typing_extensions in /usr/local/lib/python3.11/dist-packages (from etils[epath]->mujoco>=2.3.0->robosuite==1.4.1) (4.13.2)\n",
            "Requirement already satisfied: zipp in /usr/local/lib/python3.11/dist-packages (from etils[epath]->mujoco>=2.3.0->robosuite==1.4.1) (3.21.0)\n",
            "Downloading robosuite-1.4.1-py3-none-any.whl (193.5 MB)\n",
            "\u001b[2K   \u001b[90m━━━━━━━━━━━━━━━━━━━━━━━━━━━━━━━━━━━━━━━━\u001b[0m \u001b[32m193.5/193.5 MB\u001b[0m \u001b[31m4.3 MB/s\u001b[0m eta \u001b[36m0:00:00\u001b[0m\n",
            "\u001b[?25hDownloading pynput-1.8.1-py2.py3-none-any.whl (91 kB)\n",
            "\u001b[2K   \u001b[90m━━━━━━━━━━━━━━━━━━━━━━━━━━━━━━━━━━━━━━━━\u001b[0m \u001b[32m91.7/91.7 kB\u001b[0m \u001b[31m8.7 MB/s\u001b[0m eta \u001b[36m0:00:00\u001b[0m\n",
            "\u001b[?25hDownloading python_xlib-0.33-py2.py3-none-any.whl (182 kB)\n",
            "\u001b[2K   \u001b[90m━━━━━━━━━━━━━━━━━━━━━━━━━━━━━━━━━━━━━━━━\u001b[0m \u001b[32m182.2/182.2 kB\u001b[0m \u001b[31m17.2 MB/s\u001b[0m eta \u001b[36m0:00:00\u001b[0m\n",
            "\u001b[?25hBuilding wheels for collected packages: evdev\n",
            "  Building wheel for evdev (pyproject.toml) ... \u001b[?25l\u001b[?25hdone\n",
            "  Created wheel for evdev: filename=evdev-1.9.2-cp311-cp311-linux_x86_64.whl size=113072 sha256=1d4a0e8109cb3add87c3dbafce3d67aa6da743880ae720697b306d91d2002332\n",
            "  Stored in directory: /root/.cache/pip/wheels/72/97/d0/ea1b02915719d1cdb6a8810aa7683524c7aceedc5812cdeed7\n",
            "Successfully built evdev\n",
            "Installing collected packages: python-xlib, evdev, pynput, robosuite\n",
            "Successfully installed evdev-1.9.2 pynput-1.8.1 python-xlib-0.33 robosuite-1.4.1\n",
            "--2025-05-22 18:27:25--  http://downloads.cs.stanford.edu/downloads/rt_benchmark/lift/ph/low_dim_v141.hdf5\n",
            "Resolving downloads.cs.stanford.edu (downloads.cs.stanford.edu)... 171.64.64.22\n",
            "Connecting to downloads.cs.stanford.edu (downloads.cs.stanford.edu)|171.64.64.22|:80... connected.\n",
            "HTTP request sent, awaiting response... 200 OK\n",
            "Length: 21693920 (21M) [application/octet-stream]\n",
            "Saving to: ‘lift_ph_low_dim_v141.hdf5’\n",
            "\n",
            "lift_ph_low_dim_v14 100%[===================>]  20.69M  7.59MB/s    in 2.7s    \n",
            "\n",
            "2025-05-22 18:27:28 (7.59 MB/s) - ‘lift_ph_low_dim_v141.hdf5’ saved [21693920/21693920]\n",
            "\n"
          ]
        }
      ],
      "source": [
        "!git clone https://github.com/ARISE-Initiative/robomimic\n",
        "!pip install -e robomimic/\n",
        "\n",
        "import sys\n",
        "import os\n",
        "sys.path.append('./robomimic/')\n",
        "\n",
        "# install all system dependencies for mujoco-py\n",
        "!sudo apt install curl git libgl1-mesa-dev libgl1-mesa-glx libglew-dev \\\n",
        "         libosmesa6-dev software-properties-common net-tools unzip vim \\\n",
        "         virtualenv wget xserver-xorg-dev libglfw3-dev patchelf\n",
        "\n",
        "#install mujoco-py\n",
        "!pip install mujoco\n",
        "\n",
        "#install robosuite\n",
        "!pip install robosuite==1.4.1\n",
        "\n",
        "# download lift ph dataset.\n",
        "!wget http://downloads.cs.stanford.edu/downloads/rt_benchmark/lift/ph/low_dim_v141.hdf5 -O lift_ph_low_dim_v141.hdf5"
      ]
    },
    {
      "cell_type": "code",
      "execution_count": null,
      "metadata": {
        "id": "3pE_lXSDKT3U",
        "colab": {
          "base_uri": "https://localhost:8080/"
        },
        "outputId": "dfbdc490-0d9c-443a-9d3d-39022c597c82"
      },
      "outputs": [
        {
          "output_type": "stream",
          "name": "stdout",
          "text": [
            "ROBOMIMIC WARNING(\n",
            "    No private macro file found!\n",
            "    It is recommended to use a private macro file\n",
            "    To setup, run: python /content/./robomimic/robomimic/scripts/setup_macros.py\n",
            ")\n"
          ]
        }
      ],
      "source": [
        "import os\n",
        "import json\n",
        "import h5py\n",
        "import numpy as np\n",
        "\n",
        "import robomimic\n",
        "import robomimic.utils.file_utils as FileUtils\n",
        "import robomimic.utils.env_utils as EnvUtils\n",
        "import robomimic.utils.obs_utils as ObsUtils\n",
        "import imageio\n",
        "\n",
        "import torch\n",
        "import torch.nn as nn\n",
        "import torch.nn.functional as F\n",
        "from torch.optim import Adam\n",
        "import torch\n",
        "from torchvision import transforms\n",
        "from torch.utils.data import Dataset, DataLoader\n",
        "from matplotlib import pyplot as plt\n",
        "from copy import deepcopy\n",
        "import datetime"
      ]
    },
    {
      "cell_type": "code",
      "execution_count": null,
      "metadata": {
        "id": "Lk6TpswKKT3V",
        "outputId": "7a98443b-26b1-4611-a599-84fe92de771e",
        "colab": {
          "base_uri": "https://localhost:8080/"
        }
      },
      "outputs": [
        {
          "output_type": "stream",
          "name": "stdout",
          "text": [
            "cuda:0\n"
          ]
        }
      ],
      "source": [
        "device= torch.device(\"cuda:0\" if torch.cuda.is_available() else \"cpu\")\n",
        "print(device)"
      ]
    },
    {
      "cell_type": "markdown",
      "metadata": {
        "id": "uA9tCGXkKT3V"
      },
      "source": [
        "### Load Robomimic Lift Dataset"
      ]
    },
    {
      "cell_type": "code",
      "execution_count": null,
      "metadata": {
        "id": "o_9I2JNoKT3V",
        "outputId": "f248651b-5bef-4271-ca30-9317ad0dda17",
        "colab": {
          "base_uri": "https://localhost:8080/"
        }
      },
      "outputs": [
        {
          "output_type": "stream",
          "name": "stdout",
          "text": [
            "Number of demos: 200\n"
          ]
        }
      ],
      "source": [
        "dataset_path = \"lift_ph_low_dim_v141.hdf5\"\n",
        "f = h5py.File(dataset_path, \"r\")\n",
        "demos = list(f[\"data\"].keys())\n",
        "num_demos = len(demos)\n",
        "print(f'Number of demos: {num_demos}')"
      ]
    },
    {
      "cell_type": "code",
      "execution_count": null,
      "metadata": {
        "id": "axmJ425yKT3V"
      },
      "outputs": [],
      "source": [
        "select_keys=['object', 'robot0_eef_pos', 'robot0_eef_quat', 'robot0_gripper_qpos']"
      ]
    },
    {
      "cell_type": "code",
      "execution_count": null,
      "metadata": {
        "id": "6-4uP7dMKT3W",
        "outputId": "f49dd8f5-7188-47a8-c8ea-5c874e33b5ba",
        "colab": {
          "base_uri": "https://localhost:8080/"
        }
      },
      "outputs": [
        {
          "output_type": "execute_result",
          "data": {
            "text/plain": [
              "((1001, 19), (1001, 7))"
            ]
          },
          "metadata": {},
          "execution_count": 6
        }
      ],
      "source": [
        "# we will use a small dataset of first 20 demonstration for faster training\n",
        "n_demo=20\n",
        "actions_list=[]\n",
        "obs_list=[]\n",
        "for i in range(n_demo):\n",
        "    # demo_id='demo_{}'.format(i)\n",
        "    demo_id = demos[i]\n",
        "    traj=f['data'][demo_id]\n",
        "\n",
        "    actions=traj['actions']\n",
        "    select_obs=np.hstack( [traj['obs'][key] for key in select_keys] )\n",
        "    actions_list.append(actions)\n",
        "    obs_list.append(select_obs)\n",
        "\n",
        "actions_list=np.concatenate(actions_list)\n",
        "obs_list=np.concatenate(obs_list)\n",
        "obs_list.shape, actions_list.shape"
      ]
    },
    {
      "cell_type": "code",
      "execution_count": null,
      "metadata": {
        "id": "DZ4_i9-DKT3W",
        "outputId": "db5903ee-745c-4944-e105-d6420e7364c5",
        "colab": {
          "base_uri": "https://localhost:8080/"
        }
      },
      "outputs": [
        {
          "output_type": "execute_result",
          "data": {
            "text/plain": [
              "(torch.Size([64, 19]), torch.Size([64, 7]))"
            ]
          },
          "metadata": {},
          "execution_count": 7
        }
      ],
      "source": [
        "data_loader = DataLoader( list(zip(obs_list, actions_list)), batch_size=64, shuffle=True)\n",
        "\n",
        "batch=next(iter(data_loader))\n",
        "states,actions = batch\n",
        "states.shape,actions.shape"
      ]
    },
    {
      "cell_type": "code",
      "execution_count": null,
      "metadata": {
        "id": "HK9oIVhvKT3W",
        "outputId": "f9058411-7d3c-422a-a4b9-fcac8f487a31",
        "colab": {
          "base_uri": "https://localhost:8080/"
        }
      },
      "outputs": [
        {
          "output_type": "stream",
          "name": "stdout",
          "text": [
            "19 7\n"
          ]
        }
      ],
      "source": [
        "action_dim=actions.shape[1]\n",
        "state_dim=states.shape[1]\n",
        "print(state_dim, action_dim)"
      ]
    },
    {
      "cell_type": "markdown",
      "metadata": {
        "id": "ZTlvk96rKT3X"
      },
      "source": [
        "### Model"
      ]
    },
    {
      "cell_type": "code",
      "execution_count": null,
      "metadata": {
        "id": "HSahETm7KT3X"
      },
      "outputs": [],
      "source": [
        "class MLP(nn.Module):\n",
        "    def __init__(self, input_dim, size=32):\n",
        "        super(MLP, self).__init__()\n",
        "        self.net = nn.Sequential(\n",
        "            nn.Linear(input_dim,size),\n",
        "            nn.ReLU(),\n",
        "            nn.Linear(size,size),\n",
        "            nn.ReLU()\n",
        "        )\n",
        "    def forward(self,x):\n",
        "        x = self.net(x)\n",
        "        return x\n",
        "\n",
        "class RegNet(MLP):\n",
        "    def __init__(self, input_dim , size, action_dim):\n",
        "        super(RegNet, self).__init__(input_dim, size)\n",
        "        self.decoder = nn.Linear(size, action_dim)\n",
        "    def forward(self,x):\n",
        "        x = self.net(x)\n",
        "        x = self.decoder(x)\n",
        "        return x"
      ]
    },
    {
      "cell_type": "markdown",
      "metadata": {
        "id": "8IIGcIUtKT3X"
      },
      "source": [
        "### Training"
      ]
    },
    {
      "cell_type": "code",
      "execution_count": null,
      "metadata": {
        "id": "r_X9PJDIKT3X"
      },
      "outputs": [],
      "source": [
        "learning_rate = 1e-4\n",
        "\n",
        "bc = RegNet(state_dim, 64, action_dim)\n",
        "criterion = nn.MSELoss()\n",
        "optimizer = Adam(bc.parameters(), lr = learning_rate)"
      ]
    },
    {
      "cell_type": "code",
      "execution_count": null,
      "metadata": {
        "id": "Y5zTsFmdKT3X",
        "outputId": "b3e9cd8d-f8b6-4bff-e20f-9dda415d6583",
        "colab": {
          "base_uri": "https://localhost:8080/"
        }
      },
      "outputs": [
        {
          "output_type": "stream",
          "name": "stdout",
          "text": [
            "Epoch 0 Loss: 0.1888\n",
            "Epoch 150 Loss: 0.0627\n",
            "Epoch 300 Loss: 0.0407\n",
            "Epoch 450 Loss: 0.0342\n",
            "Epoch 600 Loss: 0.0314\n",
            "Epoch 750 Loss: 0.0292\n",
            "Epoch 900 Loss: 0.0276\n",
            "Epoch 1050 Loss: 0.0266\n",
            "Epoch 1200 Loss: 0.0250\n",
            "Epoch 1350 Loss: 0.0241\n",
            "Epoch 1500 Loss: 0.0231\n",
            "Epoch 1650 Loss: 0.0223\n",
            "Epoch 1800 Loss: 0.0213\n",
            "Epoch 1950 Loss: 0.0202\n",
            "Epoch 2100 Loss: 0.0193\n",
            "Epoch 2250 Loss: 0.0186\n",
            "Epoch 2400 Loss: 0.0179\n",
            "Epoch 2550 Loss: 0.0171\n",
            "Epoch 2700 Loss: 0.0166\n",
            "Epoch 2850 Loss: 0.0163\n",
            "Epoch 3000 Loss: 0.0157\n"
          ]
        }
      ],
      "source": [
        "loss_list = []\n",
        "n_epoch = 3_000\n",
        "\n",
        "for itr in range(0, n_epoch+1):\n",
        "    total_loss = 0\n",
        "    b=0\n",
        "    for batch_states, batch_actions in data_loader:\n",
        "        y_pred = bc(batch_states.float())\n",
        "        loss   = criterion(y_pred, batch_actions.float())\n",
        "        total_loss += loss.item()\n",
        "        optimizer.zero_grad()\n",
        "        loss.backward()\n",
        "        optimizer.step()\n",
        "        b += 1\n",
        "\n",
        "        loss_list.append(loss.item())\n",
        "\n",
        "    if itr % (n_epoch//20)==0:\n",
        "        print(f'Epoch {itr} Loss: {total_loss/b:.4f}')"
      ]
    },
    {
      "cell_type": "code",
      "execution_count": null,
      "metadata": {
        "id": "mHwSo8JQKT3Y"
      },
      "outputs": [],
      "source": []
    },
    {
      "cell_type": "markdown",
      "metadata": {
        "id": "EQbzOKLhKT3Y"
      },
      "source": [
        "### Inference"
      ]
    },
    {
      "cell_type": "code",
      "execution_count": null,
      "metadata": {
        "id": "P2-ItQtsKT3Y",
        "outputId": "f31b9b04-1616-431b-a6f6-475b87ce63f3",
        "colab": {
          "base_uri": "https://localhost:8080/"
        }
      },
      "outputs": [
        {
          "output_type": "stream",
          "name": "stderr",
          "text": [
            "[robosuite WARNING] No private macro file found! (macros.py:53)\n",
            "WARNING:robosuite_logs:No private macro file found!\n",
            "[robosuite WARNING] It is recommended to use a private macro file (macros.py:54)\n",
            "WARNING:robosuite_logs:It is recommended to use a private macro file\n",
            "[robosuite WARNING] To setup, run: python /usr/local/lib/python3.11/dist-packages/robosuite/scripts/setup_macros.py (macros.py:55)\n",
            "WARNING:robosuite_logs:To setup, run: python /usr/local/lib/python3.11/dist-packages/robosuite/scripts/setup_macros.py\n"
          ]
        },
        {
          "output_type": "stream",
          "name": "stdout",
          "text": [
            "Created environment with name Lift\n",
            "Action size is 7\n",
            "\n",
            "============= Initialized Observation Utils with Obs Spec =============\n",
            "\n",
            "using obs modality: low_dim with keys: ['robot0_eef_pos']\n",
            "using obs modality: rgb with keys: []\n"
          ]
        }
      ],
      "source": [
        "env_meta=FileUtils.get_env_metadata_from_dataset(dataset_path)\n",
        "env = EnvUtils.create_env_from_metadata(\n",
        "    env_meta=env_meta,\n",
        "    render=False,            # no on-screen rendering\n",
        "    render_offscreen=True,   # off-screen rendering to support rendering video frames\n",
        ")\n",
        "dummy_spec = dict(  obs=dict( low_dim=[\"robot0_eef_pos\"], rgb=[], ),)\n",
        "ObsUtils.initialize_obs_utils_with_obs_specs(obs_modality_specs=dummy_spec)"
      ]
    },
    {
      "cell_type": "code",
      "execution_count": null,
      "metadata": {
        "id": "S8ASRZ5BKT3Y"
      },
      "outputs": [],
      "source": [
        "def rollout(env, rollout_horizon = 400, video_path=None):\n",
        "    total_reward=0\n",
        "    select_keys=['object', 'robot0_eef_pos', 'robot0_eef_quat', 'robot0_gripper_qpos']\n",
        "\n",
        "    obs = env.reset()\n",
        "    state_dict = env.get_state()\n",
        "    # hack that is necessary for robosuite tasks for deterministic action playback\n",
        "    # obs = env.reset_to(state_dict)\n",
        "\n",
        "    if video_path is not None:\n",
        "        video_writer = imageio.get_writer(video_path, fps=20)\n",
        "        print(f\"Writing video to {video_path}\")\n",
        "    camera_names=[\"agentview\"]\n",
        "\n",
        "    for step_i in range(rollout_horizon):\n",
        "        select_obs=np.hstack( [obs[key] for key in select_keys] )\n",
        "        state=torch.from_numpy(select_obs).float()\n",
        "        # state=state.to(device='cuda')\n",
        "\n",
        "        act = bc(state).detach().cpu().numpy()\n",
        "        next_obs, r, done, _ = env.step(act)\n",
        "\n",
        "        # compute reward\n",
        "        total_reward += r\n",
        "        success = env.is_success()[\"task\"]\n",
        "\n",
        "        if video_path is not None:\n",
        "            video_img = env.render(mode=\"rgb_array\", height=512, width=512, camera_name=\"agentview\")\n",
        "            video_writer.append_data(video_img)\n",
        "\n",
        "\n",
        "        # break if done or if success\n",
        "        if done or success:\n",
        "            # print(f'stop: done={done} success={success}')\n",
        "            break\n",
        "\n",
        "        # update for next iter\n",
        "        obs = deepcopy(next_obs)\n",
        "\n",
        "    if video_path is not None:\n",
        "        video_writer.close()\n",
        "    return total_reward"
      ]
    },
    {
      "cell_type": "code",
      "execution_count": null,
      "metadata": {
        "id": "56OCn093KT3Y",
        "outputId": "f9269769-05ca-41db-a18c-52135c27a3ab",
        "colab": {
          "base_uri": "https://localhost:8080/"
        }
      },
      "outputs": [
        {
          "output_type": "stream",
          "name": "stdout",
          "text": [
            "Rollout 0 Success: 0.0\n",
            "Rollout 1 Success: 1.0\n",
            "Rollout 2 Success: 1.0\n",
            "Rollout 3 Success: 0.0\n",
            "Rollout 4 Success: 1.0\n",
            "Rollout 5 Success: 1.0\n",
            "Rollout 6 Success: 1.0\n",
            "Rollout 7 Success: 1.0\n",
            "Rollout 8 Success: 1.0\n",
            "Rollout 9 Success: 1.0\n",
            "Rollout 10 Success: 1.0\n",
            "Rollout 11 Success: 1.0\n",
            "Rollout 12 Success: 1.0\n",
            "Rollout 13 Success: 1.0\n",
            "Rollout 14 Success: 1.0\n",
            "Rollout 15 Success: 1.0\n",
            "Rollout 16 Success: 1.0\n",
            "Rollout 17 Success: 0.0\n",
            "Rollout 18 Success: 1.0\n",
            "Rollout 19 Success: 0.0\n",
            "\n",
            "Average Reward: 0.80\n"
          ]
        }
      ],
      "source": [
        "n_rollout=20\n",
        "s=0\n",
        "for i in range(n_rollout):\n",
        "    r=rollout(env, video_path=None)\n",
        "    s+=r\n",
        "    print(f'Rollout {i} Success: {r}')\n",
        "\n",
        "print(f'\\nAverage Reward: {s/n_rollout:.2f}')"
      ]
    },
    {
      "cell_type": "code",
      "execution_count": null,
      "metadata": {
        "id": "KwZS3lk7KT3Y"
      },
      "outputs": [],
      "source": []
    },
    {
      "cell_type": "markdown",
      "metadata": {
        "id": "x4ly5BCCKT3Z"
      },
      "source": [
        "### Render a video"
      ]
    },
    {
      "cell_type": "code",
      "execution_count": null,
      "metadata": {
        "id": "l2_e5rvxKT3Z",
        "outputId": "3e48e04d-f571-4482-be3d-69d7afbec1d1",
        "colab": {
          "base_uri": "https://localhost:8080/"
        }
      },
      "outputs": [
        {
          "output_type": "stream",
          "name": "stdout",
          "text": [
            "Writing video to lift_bc.mp4\n"
          ]
        },
        {
          "output_type": "execute_result",
          "data": {
            "text/plain": [
              "1.0"
            ]
          },
          "metadata": {},
          "execution_count": 15
        }
      ],
      "source": [
        "r=rollout(env, video_path=\"lift_bc.mp4\")\n",
        "r"
      ]
    },
    {
      "cell_type": "code",
      "execution_count": null,
      "metadata": {
        "id": "18k7qt4jKT3Z",
        "outputId": "dd1672ad-197b-4a4a-aa5f-5e3f04a75364",
        "colab": {
          "base_uri": "https://localhost:8080/",
          "height": 422
        }
      },
      "outputs": [
        {
          "output_type": "execute_result",
          "data": {
            "text/plain": [
              "<IPython.core.display.HTML object>"
            ],
            "text/html": [
              "\n",
              "<video width=400 controls>\n",
              "      <source src=\"data:video/mp4;base64,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\" type=\"video/mp4\">\n",
              "</video>\n"
            ]
          },
          "metadata": {},
          "execution_count": 16
        }
      ],
      "source": [
        "from IPython.display import HTML\n",
        "from base64 import b64encode\n",
        "\n",
        "video_path = 'lift_bc.mp4'\n",
        "\n",
        "mp4 = open(video_path, \"rb\").read()\n",
        "data_url = \"data:video/mp4;base64,\" + b64encode(mp4).decode()\n",
        "HTML(f\"\"\"\n",
        "<video width=400 controls>\n",
        "      <source src=\"{data_url}\" type=\"video/mp4\">\n",
        "</video>\n",
        "\"\"\")"
      ]
    },
    {
      "cell_type": "code",
      "execution_count": null,
      "metadata": {
        "id": "99t5Nwd7KT3Z"
      },
      "outputs": [],
      "source": []
    },
    {
      "cell_type": "code",
      "execution_count": null,
      "metadata": {
        "id": "CSDrY64DKT3Z"
      },
      "outputs": [],
      "source": []
    },
    {
      "cell_type": "code",
      "execution_count": null,
      "metadata": {
        "id": "9yCelboKKT3Z"
      },
      "outputs": [],
      "source": []
    },
    {
      "cell_type": "code",
      "execution_count": null,
      "metadata": {
        "id": "b-8it86jKT3Z"
      },
      "outputs": [],
      "source": []
    },
    {
      "cell_type": "code",
      "execution_count": null,
      "metadata": {
        "id": "YNMauBKOKT3c"
      },
      "outputs": [],
      "source": []
    },
    {
      "cell_type": "code",
      "execution_count": null,
      "metadata": {
        "id": "Ryd0b5lGKT3c"
      },
      "outputs": [],
      "source": []
    },
    {
      "cell_type": "code",
      "execution_count": null,
      "metadata": {
        "id": "LHV639OOKT3c"
      },
      "outputs": [],
      "source": []
    },
    {
      "cell_type": "code",
      "execution_count": null,
      "metadata": {
        "id": "DstZkaa8KT3c"
      },
      "outputs": [],
      "source": []
    },
    {
      "cell_type": "code",
      "execution_count": null,
      "metadata": {
        "id": "RP6Hgn6NKT3d"
      },
      "outputs": [],
      "source": []
    },
    {
      "cell_type": "code",
      "execution_count": null,
      "metadata": {
        "id": "Pukl_azIKT3d"
      },
      "outputs": [],
      "source": []
    },
    {
      "cell_type": "code",
      "execution_count": null,
      "metadata": {
        "id": "FK-ff7NLKT3d"
      },
      "outputs": [],
      "source": []
    },
    {
      "cell_type": "code",
      "execution_count": null,
      "metadata": {
        "id": "x1y8GirpKT3d"
      },
      "outputs": [],
      "source": []
    },
    {
      "cell_type": "code",
      "execution_count": null,
      "metadata": {
        "id": "RefwDrBrKT3d"
      },
      "outputs": [],
      "source": []
    }
  ],
  "metadata": {
    "kernelspec": {
      "display_name": "Python 3",
      "name": "python3"
    },
    "language_info": {
      "codemirror_mode": {
        "name": "ipython",
        "version": 3
      },
      "file_extension": ".py",
      "mimetype": "text/x-python",
      "name": "python",
      "nbconvert_exporter": "python",
      "pygments_lexer": "ipython3",
      "version": "3.9.12"
    },
    "colab": {
      "provenance": [],
      "gpuType": "T4"
    },
    "accelerator": "GPU"
  },
  "nbformat": 4,
  "nbformat_minor": 0
}